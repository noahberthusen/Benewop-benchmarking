{
 "cells": [
  {
   "cell_type": "code",
   "execution_count": 1,
   "metadata": {
    "execution": {
     "iopub.execute_input": "2020-06-25T16:15:51.844Z",
     "iopub.status.busy": "2020-06-25T16:15:51.833Z",
     "iopub.status.idle": "2020-06-25T16:15:54.910Z",
     "shell.execute_reply": "2020-06-25T16:15:54.897Z"
    }
   },
   "outputs": [],
   "source": [
    "import numpy as np\n",
    "from qiskit import *\n",
    "import matplotlib.pyplot as plt\n",
    "from scipy.optimize import curve_fit \n",
    "import random\n",
    "import math\n",
    "from qiskit.tools.monitor import job_monitor\n",
    "from qiskit import pulse        \n",
    "from qiskit.pulse import Play\n",
    "from qiskit.pulse import pulse_lib \n",
    "%matplotlib inline"
   ]
  },
  {
   "cell_type": "code",
   "execution_count": 2,
   "metadata": {
    "execution": {
     "iopub.execute_input": "2020-06-25T16:15:57.358Z",
     "iopub.status.busy": "2020-06-25T16:15:57.344Z",
     "iopub.status.idle": "2020-06-25T16:16:00.715Z",
     "shell.execute_reply": "2020-06-25T16:16:00.729Z"
    }
   },
   "outputs": [],
   "source": [
    "provider = IBMQ.load_account()\n",
    "provider = IBMQ.get_provider(hub='ibm-q-ornl', group='ornl', project='phy141')\n",
    "backend = provider.get_backend('ibmq_johannesburg')\n",
    "backend_config = backend.configuration()"
   ]
  },
  {
   "cell_type": "code",
   "execution_count": 3,
   "metadata": {
    "execution": {
     "iopub.execute_input": "2020-06-25T16:16:42.921Z",
     "iopub.status.busy": "2020-06-25T16:16:42.909Z",
     "iopub.status.idle": "2020-06-25T16:16:46.170Z",
     "shell.execute_reply": "2020-06-25T16:16:46.197Z"
    }
   },
   "outputs": [
    {
     "name": "stdout",
     "output_type": "stream",
     "text": [
      "Sampling time: 0.2222222222222222 ns\n"
     ]
    }
   ],
   "source": [
    "import numpy as np\n",
    "\n",
    "backend_defaults = backend.defaults()\n",
    "dt = backend_config.dt\n",
    "print(f\"Sampling time: {dt*1e9} ns\") \n",
    "\n",
    "# unit conversion factors -> all backend properties returned in SI (Hz, sec, etc)\n",
    "GHz = 1.0e9 # Gigahertz\n",
    "MHz = 1.0e6 # Megahertz\n",
    "us = 1.0e-6 # Microseconds\n",
    "ns = 1.0e-9 # Nanoseconds\n",
    "\n",
    "# We will find the qubit frequency for the following qubit.\n",
    "qubit = 15\n",
    "\n",
    "# scale factor to remove factors of 10 from the data\n",
    "scale_factor = 1e-14"
   ]
  },
  {
   "cell_type": "code",
   "execution_count": 4,
   "metadata": {
    "execution": {
     "iopub.execute_input": "2020-06-25T16:16:47.654Z",
     "iopub.status.busy": "2020-06-25T16:16:47.641Z",
     "iopub.status.idle": "2020-06-25T16:16:47.669Z",
     "shell.execute_reply": "2020-06-25T16:16:47.678Z"
    }
   },
   "outputs": [],
   "source": [
    "### Collect the necessary channels\n",
    "drive_chan = pulse.DriveChannel(qubit)\n",
    "meas_chan = pulse.MeasureChannel(qubit)\n",
    "acq_chan = pulse.AcquireChannel(qubit)\n",
    "\n",
    "inst_sched_map = backend_defaults.instruction_schedule_map\n",
    "measure = inst_sched_map.get('measure', qubits=qubit)"
   ]
  },
  {
   "cell_type": "code",
   "execution_count": 5,
   "metadata": {
    "execution": {
     "iopub.execute_input": "2020-06-25T16:16:51.355Z",
     "iopub.status.busy": "2020-06-25T16:16:51.343Z",
     "iopub.status.idle": "2020-06-25T16:16:51.368Z",
     "shell.execute_reply": "2020-06-25T16:16:51.376Z"
    }
   },
   "outputs": [],
   "source": [
    "from scipy.optimize import curve_fit\n",
    "\n",
    "def fit_function(x_values, y_values, function, init_params):\n",
    "    fitparams, conv = curve_fit(function, x_values, y_values, init_params)\n",
    "    y_fit = function(x_values, *fitparams)\n",
    "    \n",
    "    return fitparams, y_fit\n",
    "\n",
    "# center data around 0\n",
    "def baseline_remove(values):\n",
    "    return np.array(values) - np.mean(values)\n",
    "\n",
    "# samples need to be multiples of 16\n",
    "def get_closest_multiple_of_16(num):\n",
    "    return int(num + 8 ) - (int(num + 8 ) % 16)"
   ]
  },
  {
   "cell_type": "code",
   "execution_count": 6,
   "metadata": {
    "execution": {
     "iopub.execute_input": "2020-06-25T16:58:26.352Z",
     "iopub.status.busy": "2020-06-25T16:58:26.343Z",
     "iopub.status.idle": "2020-06-25T16:58:47.966Z",
     "shell.execute_reply": "2020-06-25T16:58:47.996Z"
    }
   },
   "outputs": [],
   "source": [
    "# Rabi experiment parameters\n",
    "num_amplitudes = 8\n",
    "num_rabi_points = 50\n",
    "\n",
    "# Build the Rabi experiments:\n",
    "#    A drive pulse at the qubit frequency, followed by a measurement,\n",
    "#    where we vary the drive amplitude each time.\n",
    "\n",
    "pulse_info = []\n",
    "rabi_jobs = []\n",
    "all_drive_amps = []\n",
    "\n",
    "drive_sigmas = np.geomspace(0.002, 0.04, num_amplitudes)\n",
    "# Repeat the Rabi experiment for {num_amplitude} amplitudes. Each experiment is its own job\n",
    "for i in range(num_amplitudes):\n",
    "    # Drive amplitude values to iterate over: amplitudes evenly spaced from 0 to 0.75\n",
    "    drive_amp_min = 0\n",
    "    drive_amp_max = 0.75-(i*0.065)\n",
    "    drive_amps = np.linspace(drive_amp_min, drive_amp_max, num_rabi_points)\n",
    "    all_drive_amps.append(drive_amps)\n",
    "    \n",
    "    # Drive pulse parameters (us = microseconds)\n",
    "    drive_sigma_us = drive_sigmas[i]        # This determines the actual width of the gaussian\n",
    "    drive_samples_us = drive_sigma_us*8        # This is a truncating parameter, because gaussians don't have \n",
    "                                               # a natural finite length\n",
    "\n",
    "    drive_sigma = get_closest_multiple_of_16(drive_sigma_us * us /dt)       # The width of the gaussian in units of dt\n",
    "    drive_samples = get_closest_multiple_of_16(drive_samples_us * us /dt)   # The truncating parameter in units of dt\n",
    "\n",
    "    pulse_info.append([drive_sigma, drive_samples])\n",
    "    \n",
    "    rabi_schedules = []\n",
    "    \n",
    "    # Build the Rabi experiments:\n",
    "        #    A drive pulse at the qubit frequency, followed by a measurement,\n",
    "        #    where we vary the drive amplitude each time.\n",
    "    for drive_amp in drive_amps:\n",
    "        rabi_pulse = pulse_lib.gaussian(duration=drive_samples, amp=drive_amp, \n",
    "                                        sigma=drive_sigma, name=f\"Rabi drive amplitude = {drive_amp}\")\n",
    "        this_schedule = pulse.Schedule(name=f\"Rabi drive amplitude = {drive_amp}\")\n",
    "        this_schedule += Play(rabi_pulse, drive_chan)\n",
    "\n",
    "        this_schedule += measure << this_schedule.duration\n",
    "        rabi_schedules.append(this_schedule)\n",
    "        \n",
    "        \n",
    "    # Assemble the schedules into a Qobj\n",
    "    num_shots_per_point = 1024\n",
    "        \n",
    "    rabi_experiment_program = assemble(rabi_schedules,\n",
    "                                   backend=backend,\n",
    "                                   meas_level=1,\n",
    "                                   meas_return='avg',\n",
    "                                   shots=num_shots_per_point,\n",
    "                                   schedule_los=[{drive_chan: backend_defaults.qubit_freq_est[qubit]}]\n",
    "                                                * num_rabi_points)\n",
    "\n",
    "    job = backend.run(rabi_experiment_program)\n",
    "    rabi_jobs.append(job.job_id())"
   ]
  },
  {
   "cell_type": "code",
   "execution_count": 7,
   "metadata": {
    "execution": {
     "iopub.execute_input": "2020-06-25T16:58:49.914Z",
     "iopub.status.busy": "2020-06-25T16:58:49.908Z",
     "iopub.status.idle": "2020-06-25T16:58:49.929Z",
     "shell.execute_reply": "2020-06-25T16:58:49.936Z"
    }
   },
   "outputs": [
    {
     "data": {
      "text/plain": [
       "['5ef65bdd7855410012c58992',\n",
       " '5ef65bdf5faf0900143b2d4f',\n",
       " '5ef65be184b1b70012375d91',\n",
       " '5ef65be484b1b70012375d92',\n",
       " '5ef65be6be0e7e00121bd468',\n",
       " '5ef65be984b1b70012375d93',\n",
       " '5ef65becddb650001207990e',\n",
       " '5ef65befbe0e7e00121bd469']"
      ]
     },
     "execution_count": 7,
     "metadata": {},
     "output_type": "execute_result"
    }
   ],
   "source": [
    "rabi_jobs"
   ]
  },
  {
   "cell_type": "code",
   "execution_count": 8,
   "metadata": {
    "execution": {
     "iopub.execute_input": "2020-06-25T16:46:36.266Z",
     "iopub.status.busy": "2020-06-25T16:46:36.257Z",
     "iopub.status.idle": "2020-06-25T16:46:43.707Z",
     "shell.execute_reply": "2020-06-25T16:46:43.693Z"
    }
   },
   "outputs": [],
   "source": [
    "rabi_values = []\n",
    "\n",
    "for i in range(len(rabi_jobs)):\n",
    "    job = backend.retrieve_job(rabi_jobs[i])\n",
    "    results = job.result(timeout=120)\n",
    "    \n",
    "    amp_values = []\n",
    "    for j in range(num_rabi_points):\n",
    "        amp_values.append(results.get_memory(j)[qubit] * scale_factor)\n",
    "    rabi_values.append(amp_values)\n",
    "        \n",
    "rabi_values = [np.real(baseline_remove(x)) for x in rabi_values]"
   ]
  },
  {
   "cell_type": "code",
   "execution_count": 30,
   "metadata": {
    "execution": {
     "iopub.execute_input": "2020-06-25T16:47:58.575Z",
     "iopub.status.busy": "2020-06-25T16:47:58.569Z",
     "iopub.status.idle": "2020-06-25T16:47:58.586Z",
     "shell.execute_reply": "2020-06-25T16:47:58.594Z"
    }
   },
   "outputs": [],
   "source": [
    "rabi_fit_params = []\n",
    "y_fits = []\n",
    "amp_guesses = np.linspace(0.6, 0.10, num_amplitudes)\n",
    "\n",
    "for i in range(len(rabi_values)):\n",
    "    fit_params, y_fit = fit_function(all_drive_amps[i],\n",
    "                                     rabi_values[i], \n",
    "                                     lambda x, A, B, drive_period, phi: (A*np.cos(2*np.pi*x/drive_period - phi) + B),\n",
    "                                     [1, 0, .2, 0])\n",
    "    rabi_fit_params.append(fit_params)\n",
    "    y_fits.append(y_fit)"
   ]
  },
  {
   "cell_type": "code",
   "execution_count": 31,
   "metadata": {
    "execution": {
     "iopub.execute_input": "2020-06-25T16:48:12.109Z",
     "iopub.status.busy": "2020-06-25T16:48:12.102Z",
     "iopub.status.idle": "2020-06-25T16:48:12.238Z",
     "shell.execute_reply": "2020-06-25T16:48:12.261Z"
    }
   },
   "outputs": [
    {
     "name": "stdout",
     "output_type": "stream",
     "text": [
      "Amplitude: 0.11706154012714548 dt\n"
     ]
    },
    {
     "data": {
      "image/png": "[encoded data removed]",
      "text/plain": [
       "<Figure size 432x288 with 1 Axes>"
      ]
     },
     "metadata": {},
     "output_type": "display_data"
    }
   ],
   "source": [
    "a = 6\n",
    "plt.scatter(all_drive_amps[a], rabi_values[a], color='black')\n",
    "plt.plot(all_drive_amps[a], y_fits[a], color='red')\n",
    "print(f'Amplitude: {abs(rabi_fit_params[a][2] / 2)} dt')"
   ]
  },
  {
   "cell_type": "code",
   "execution_count": 24,
   "metadata": {
    "execution": {
     "iopub.execute_input": "2020-06-25T16:48:24.635Z",
     "iopub.status.busy": "2020-06-25T16:48:24.626Z",
     "iopub.status.idle": "2020-06-25T16:48:24.650Z",
     "shell.execute_reply": "2020-06-25T16:48:24.658Z"
    }
   },
   "outputs": [
    {
     "name": "stdout",
     "output_type": "stream",
     "text": [
      "Pi Amplitude = 1.016485184864977\n",
      "Duration = 80\n",
      "Sigma = 16\n",
      "\n",
      "Pi Amplitude = 0.8694664683772594\n",
      "Duration = 112\n",
      "Sigma = 16\n",
      "\n",
      "Pi Amplitude = 0.8787790869659213\n",
      "Duration = 176\n",
      "Sigma = 16\n",
      "\n",
      "Pi Amplitude = 0.09269076588329418\n",
      "Duration = 256\n",
      "Sigma = 32\n",
      "\n",
      "Pi Amplitude = 0.28164164823258225\n",
      "Duration = 400\n",
      "Sigma = 48\n",
      "\n",
      "Pi Amplitude = 0.18404972375477802\n",
      "Duration = 608\n",
      "Sigma = 80\n",
      "\n",
      "Pi Amplitude = 0.061501567040892845\n",
      "Duration = 944\n",
      "Sigma = 112\n",
      "\n",
      "Pi Amplitude = 0.07379884746225539\n",
      "Duration = 1440\n",
      "Sigma = 176\n",
      "\n"
     ]
    }
   ],
   "source": [
    "for i in range(num_amplitudes):\n",
    "    pi_amp = abs(rabi_fit_params[i][2] / 2)\n",
    "    pulse_info[i].append(pi_amp)\n",
    "    print(f\"Pi Amplitude = {abs(rabi_fit_params[i][2] / 2)}\")\n",
    "    print(f\"Duration = {pulse_info[i][1]}\")\n",
    "    print(f\"Sigma = {pulse_info[i][0]}\")\n",
    "#     print(f\"Period = {pulse_info[i][3]}\")\n",
    "    print()"
   ]
  },
  {
   "cell_type": "code",
   "execution_count": 76,
   "metadata": {
    "execution": {
     "iopub.execute_input": "2020-06-25T16:48:27.988Z",
     "iopub.status.busy": "2020-06-25T16:48:27.980Z",
     "iopub.status.idle": "2020-06-25T16:48:28.003Z",
     "shell.execute_reply": "2020-06-25T16:48:28.008Z"
    }
   },
   "outputs": [],
   "source": [
    "pulse_info = [[16, 80, 1],\n",
    " [16, 112, 0.8694664683772594],\n",
    " [16, 176, 0.8787790869659213],\n",
    " [32, 256, 0.4306437273528574],\n",
    " [48, 400, 0.28164164823258225],\n",
    " [80, 608, 0.18404972375477802],\n",
    " [112, 944, 0.11706154012714548],\n",
    " [176, 1440, 0.07379884746225539]]"
   ]
  },
  {
   "cell_type": "code",
   "execution_count": 60,
   "metadata": {},
   "outputs": [],
   "source": [
    "num_rabi_stretches = 50\n",
    "\n",
    "all_durations = []\n",
    "rabi_stretch_jobs = []\n",
    "\n",
    "for i in range(len(pulse_info)):\n",
    "    rabi_stretch_schedules = []\n",
    "    durations = []\n",
    "\n",
    "    drive_samples = pulse_info[i][1]\n",
    "    \n",
    "    for j in range(num_rabi_stretches):\n",
    "        duration = get_closest_multiple_of_16(drive_samples+(j*16))\n",
    "        rabi_pulse = pulse_lib.GaussianSquare(duration=duration, \n",
    "                                        amp=pulse_info[i][2], \n",
    "                                        sigma=pulse_info[i][0],\n",
    "                                        width=drive_samples+(j*16)-(2*pulse_info[i][0]),\n",
    "                                        name=f\"Rabi duration = {duration}\")\n",
    "\n",
    "        this_schedule = pulse.Schedule(name=f\"Rabi duration = {duration}\")\n",
    "        this_schedule += Play(rabi_pulse, drive_chan)\n",
    "\n",
    "        this_schedule += measure << this_schedule.duration\n",
    "        rabi_stretch_schedules.append(this_schedule)\n",
    "        durations.append(duration)\n",
    "    \n",
    "    all_durations.append(durations)\n",
    "    \n",
    "    # Assemble the schedules into a Qobj\n",
    "    num_shots_per_point = 1024\n",
    "\n",
    "    rabi_stretch_program = assemble(rabi_stretch_schedules,\n",
    "                                       backend=backend,\n",
    "                                       meas_level=1,\n",
    "                                       meas_return='avg',\n",
    "                                       shots=num_shots_per_point,\n",
    "                                       schedule_los=[{drive_chan: backend_defaults.qubit_freq_est[qubit]}]\n",
    "                                                    * num_rabi_stretches)\n",
    "    stretch_job = backend.run(rabi_stretch_program)\n",
    "    rabi_stretch_jobs.append(stretch_job.job_id())"
   ]
  },
  {
   "cell_type": "code",
   "execution_count": 61,
   "metadata": {},
   "outputs": [
    {
     "data": {
      "text/plain": [
       "['5ef666bd7855410012c589e9',\n",
       " '5ef666c084b1b70012375dea',\n",
       " '5ef666c28a74d20012b5d82e',\n",
       " '5ef666c5a2591200133f3cc0',\n",
       " '5ef666c85faf0900143b2daf',\n",
       " '5ef666cb8a74d20012b5d830',\n",
       " '5ef666cf7855410012c589eb',\n",
       " '5ef666d2be0e7e00121bd4bf']"
      ]
     },
     "execution_count": 61,
     "metadata": {},
     "output_type": "execute_result"
    }
   ],
   "source": [
    "rabi_stretch_jobs"
   ]
  },
  {
   "cell_type": "code",
   "execution_count": 62,
   "metadata": {},
   "outputs": [],
   "source": [
    "rabi_stretch_values = []\n",
    "\n",
    "for i in range(len(rabi_stretch_jobs)):\n",
    "    job = backend.retrieve_job(rabi_stretch_jobs[i])\n",
    "    results = job.result(timeout=120)\n",
    "\n",
    "    period_values = []\n",
    "    for j in range(num_rabi_stretches):\n",
    "        period_values.append(results.get_memory(j)[qubit] * scale_factor)\n",
    "    rabi_stretch_values.append(period_values)\n",
    "        \n",
    "rabi_stretch_values = [np.real(baseline_remove(x)) for x in rabi_stretch_values]"
   ]
  },
  {
   "cell_type": "code",
   "execution_count": 80,
   "metadata": {},
   "outputs": [],
   "source": [
    "rabi_stretch_params = []\n",
    "y_stretch_fits = []\n",
    "period_guesses = np.geomspace(70, 860, len(rabi_stretch_values), endpoint=False)\n",
    "\n",
    "fun = lambda x,A,B,T,phi: (A*np.cos(2*np.pi*x/T+phi)+B)\n",
    "\n",
    "for i in range(len(rabi_stretch_values)):\n",
    "    fit_params, cov = curve_fit(fun,\n",
    "                           all_durations[i],\n",
    "                           rabi_stretch_values[i],\n",
    "                           [8, 0, 80, 0],\n",
    "                           maxfev=3000)\n",
    "\n",
    "    rabi_stretch_params.append(fit_params)\n",
    "    y_fit = [fun(x, fit_params[0], fit_params[1], fit_params[2], fit_params[3]) for x in all_durations[i]]\n",
    "    y_stretch_fits.append(y_fit)"
   ]
  },
  {
   "cell_type": "code",
   "execution_count": 81,
   "metadata": {},
   "outputs": [
    {
     "name": "stdout",
     "output_type": "stream",
     "text": [
      "Period for amp: 0.8787790869659213, 85.30765459618864 dt\n"
     ]
    },
    {
     "data": {
      "image/png": "[encoded data removed]",
      "text/plain": [
       "<Figure size 432x288 with 1 Axes>"
      ]
     },
     "metadata": {},
     "output_type": "display_data"
    }
   ],
   "source": [
    "p = 2\n",
    "plt.scatter(all_durations[p], rabi_stretch_values[p], color='black')\n",
    "plt.plot(all_durations[p], y_stretch_fits[p], color='red')\n",
    "print(f'Period for amp: {pulse_info[p][2]}, {rabi_stretch_params[p][2]} dt')"
   ]
  },
  {
   "cell_type": "code",
   "execution_count": 77,
   "metadata": {},
   "outputs": [
    {
     "name": "stdout",
     "output_type": "stream",
     "text": [
      "Pi Amplitude = 1\n",
      "Period = 76.65667016798142\n",
      "\n",
      "Pi Amplitude = 0.8694664683772594\n",
      "Period = 86.04501936311694\n",
      "\n",
      "Pi Amplitude = 0.8787790869659213\n",
      "Period = 135.0383728856413\n",
      "\n",
      "Pi Amplitude = 0.4306437273528574\n",
      "Period = 160.08810552841186\n",
      "\n",
      "Pi Amplitude = 0.28164164823258225\n",
      "Period = 235.05430003610692\n",
      "\n",
      "Pi Amplitude = 0.18404972375477802\n",
      "Period = 351.2567061246331\n",
      "\n",
      "Pi Amplitude = 0.11706154012714548\n",
      "Period = 550.2498750138275\n",
      "\n",
      "Pi Amplitude = 0.07379884746225539\n",
      "Period = 859.889170821063\n",
      "\n"
     ]
    }
   ],
   "source": [
    "for i in range(len(rabi_stretch_values)):\n",
    "    period = rabi_stretch_params[i][2]\n",
    "    pulse_info[i].append(period)\n",
    "    print(f\"Pi Amplitude = {pulse_info[i][2]}\")\n",
    "    print(f\"Period = {period}\")\n",
    "    print()"
   ]
  },
  {
   "cell_type": "code",
   "execution_count": 82,
   "metadata": {},
   "outputs": [
    {
     "data": {
      "text/plain": [
       "array([[1.60000000e+01, 8.00000000e+01, 1.00000000e+00, 7.66566702e+01],\n",
       "       [1.60000000e+01, 1.12000000e+02, 8.69466468e-01, 8.60450194e+01],\n",
       "       [1.60000000e+01, 1.76000000e+02, 8.78779087e-01, 8.53076545e+01],\n",
       "       [3.20000000e+01, 2.56000000e+02, 4.30643727e-01, 1.60088106e+02],\n",
       "       [4.80000000e+01, 4.00000000e+02, 2.81641648e-01, 2.35054300e+02],\n",
       "       [8.00000000e+01, 6.08000000e+02, 1.84049724e-01, 3.51256706e+02],\n",
       "       [1.12000000e+02, 9.44000000e+02, 1.17061540e-01, 5.50249875e+02],\n",
       "       [1.76000000e+02, 1.44000000e+03, 7.37988475e-02, 8.59889171e+02]])"
      ]
     },
     "execution_count": 82,
     "metadata": {},
     "output_type": "execute_result"
    }
   ],
   "source": [
    "edited_pulse_info = np.array([\n",
    "       [1.60000000e+01, 8.00000000e+01, 1.00000000e+00, 7.66566702e+01],\n",
    "       [1.60000000e+01, 1.12000000e+02, 8.69466468e-01, 8.60450194e+01],\n",
    "       [1.60000000e+01, 1.76000000e+02, 8.78779087e-01, 8.53076545e+01],\n",
    "       [3.20000000e+01, 2.56000000e+02, 4.30643727e-01, 1.60088106e+02],\n",
    "       [4.80000000e+01, 4.00000000e+02, 2.81641648e-01, 2.35054300e+02],\n",
    "       [8.00000000e+01, 6.08000000e+02, 1.84049724e-01, 3.51256706e+02],\n",
    "       [1.12000000e+02, 9.44000000e+02, 1.17061540e-01, 5.50249875e+02],\n",
    "       [1.76000000e+02, 1.44000000e+03, 7.37988475e-02, 8.59889171e+02]])\n",
    "\n",
    "edited_pulse_info[:,]"
   ]
  },
  {
   "cell_type": "code",
   "execution_count": 83,
   "metadata": {
    "scrolled": true
   },
   "outputs": [
    {
     "name": "stdout",
     "output_type": "stream",
     "text": [
      "Conversion constant: 70.92519866266184. Exponent: -0.9561175027847064\n"
     ]
    },
    {
     "data": {
      "image/png": "[encoded data removed]",
      "text/plain": [
       "<Figure size 432x288 with 1 Axes>"
      ]
     },
     "metadata": {},
     "output_type": "display_data"
    }
   ],
   "source": [
    "per_amp_power_fit = lambda x,A,n: A*(x**n)\n",
    "per_params, _ = curve_fit(per_amp_power_fit, edited_pulse_info[:, 2] , edited_pulse_info[:, 3], p0=[50, -1])\n",
    "amp_fit = per_amp_power_fit(edited_pulse_info[:, 2], *per_params)\n",
    "\n",
    "plt.plot(edited_pulse_info[:, 2], amp_fit, label='Amplitude decay fit')\n",
    "plt.scatter(edited_pulse_info[:, 2], edited_pulse_info[:, 3], color='black')\n",
    "plt.xlabel(\"Drive amplitude [a.u.]\")\n",
    "plt.ylabel(\"Rabi Period [dt]\")\n",
    "plt.title(\"Rabi Period vs. Amplitude Relationship, qb = \" + str(qubit), fontsize=16)\n",
    "print(f'Conversion constant: {per_params[0]}. Exponent: {per_params[1]}')"
   ]
  },
  {
   "cell_type": "code",
   "execution_count": 43,
   "metadata": {},
   "outputs": [],
   "source": [
    "predict_const = per_params[0]\n",
    "predict_power = per_params[1]\n",
    "drive_amp = lambda period: np.power(period/predict_const,1/predict_power)"
   ]
  },
  {
   "cell_type": "code",
   "execution_count": 44,
   "metadata": {},
   "outputs": [
    {
     "data": {
      "text/plain": [
       "0.5220973927598178"
      ]
     },
     "execution_count": 44,
     "metadata": {},
     "output_type": "execute_result"
    }
   ],
   "source": [
    "drive_amp(100)"
   ]
  },
  {
   "cell_type": "code",
   "execution_count": 84,
   "metadata": {},
   "outputs": [
    {
     "name": "stdout",
     "output_type": "stream",
     "text": [
      "Conversion constant: 15.113382279092622. Exponent: -0.9420720154939807\n"
     ]
    },
    {
     "data": {
      "image/png": "[encoded data removed]",
      "text/plain": [
       "<Figure size 432x288 with 1 Axes>"
      ]
     },
     "metadata": {},
     "output_type": "display_data"
    }
   ],
   "source": [
    "sig_amp_power_fit = lambda x,A,n: A*(x**n)\n",
    "sig_params, _ = curve_fit(sig_amp_power_fit, edited_pulse_info[:, 2] , edited_pulse_info[:, 0], p0=[3, -1])\n",
    "sig_fit = sig_amp_power_fit(edited_pulse_info[:, 2], *sig_params)\n",
    "\n",
    "plt.plot(edited_pulse_info[:, 2], sig_fit, label='Amplitude decay fit')\n",
    "plt.scatter(edited_pulse_info[:, 2], edited_pulse_info[:, 0], color='black')\n",
    "plt.xlabel(\"Drive amplitude [a.u.]\")\n",
    "plt.ylabel(\"Gaussian width [dt]\")\n",
    "plt.title(\"Gaussian width vs. Amplitude Relationship, qb = \" + str(qubit), fontsize=16)\n",
    "print(f'Conversion constant: {sig_params[0]}. Exponent: {sig_params[1]}')"
   ]
  },
  {
   "cell_type": "code",
   "execution_count": null,
   "metadata": {},
   "outputs": [],
   "source": []
  }
 ],
 "metadata": {
  "kernelspec": {
   "display_name": "Python 3",
   "language": "python",
   "name": "python3"
  },
  "language_info": {
   "codemirror_mode": {
    "name": "ipython",
    "version": 3
   },
   "file_extension": ".py",
   "mimetype": "text/x-python",
   "name": "python",
   "nbconvert_exporter": "python",
   "pygments_lexer": "ipython3",
   "version": "3.6.7"
  },
  "nteract": {
   "version": "0.23.3"
  }
 },
 "nbformat": 4,
 "nbformat_minor": 2
}
