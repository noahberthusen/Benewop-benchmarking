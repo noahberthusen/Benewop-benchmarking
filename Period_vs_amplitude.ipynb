{
 "cells": [
  {
   "cell_type": "code",
   "execution_count": 1,
   "metadata": {},
   "outputs": [],
   "source": [
    "import numpy as np\n",
    "from qiskit import *\n",
    "import matplotlib.pyplot as plt\n",
    "from scipy.optimize import curve_fit \n",
    "import random\n",
    "import math\n",
    "from qiskit.tools.monitor import job_monitor\n",
    "%matplotlib inline"
   ]
  },
  {
   "cell_type": "code",
   "execution_count": 15,
   "metadata": {},
   "outputs": [
    {
     "name": "stderr",
     "output_type": "stream",
     "text": [
      "ibmqfactory.load_account:WARNING:2020-06-16 13:55:51,509: Credentials are already in use. The existing account in the session will be replaced.\n"
     ]
    }
   ],
   "source": [
    "# Choose a real device to simulate\n",
    "provider = IBMQ.load_account()\n",
    "provider = IBMQ.get_provider(hub='ibm-q-ornl', group='ornl', project='phy141')\n",
    "backend = provider.get_backend('ibmq_armonk')\n",
    "backend_config = backend.configuration()"
   ]
  },
  {
   "cell_type": "code",
   "execution_count": 16,
   "metadata": {},
   "outputs": [
    {
     "name": "stdout",
     "output_type": "stream",
     "text": [
      "Sampling time: 0.2222222222222222 ns\n",
      "Qubit 0 has an estimated frequency of 4.974445794773773 GHz.\n"
     ]
    }
   ],
   "source": [
    "import numpy as np\n",
    "\n",
    "backend_defaults = backend.defaults()\n",
    "dt = backend_config.dt\n",
    "print(f\"Sampling time: {dt*1e9} ns\") \n",
    "\n",
    "# unit conversion factors -> all backend properties returned in SI (Hz, sec, etc)\n",
    "GHz = 1.0e9 # Gigahertz\n",
    "MHz = 1.0e6 # Megahertz\n",
    "us = 1.0e-6 # Microseconds\n",
    "ns = 1.0e-9 # Nanoseconds\n",
    "\n",
    "# We will find the qubit frequency for the following qubit.\n",
    "qubit = 0\n",
    "\n",
    "# The sweep will be centered around the estimated qubit frequency.\n",
    "center_frequency_Hz = backend_defaults.qubit_freq_est[qubit]        # The default frequency is given in Hz\n",
    "                                                                    # warning: this will change in a future release\n",
    "print(f\"Qubit {qubit} has an estimated frequency of {center_frequency_Hz / GHz} GHz.\")\n",
    "\n",
    "# scale factor to remove factors of 10 from the data\n",
    "scale_factor = 1e-14"
   ]
  },
  {
   "cell_type": "code",
   "execution_count": 17,
   "metadata": {},
   "outputs": [],
   "source": [
    "# samples need to be multiples of 16\n",
    "def get_closest_multiple_of_16(num):\n",
    "    return int(num + 8 ) - (int(num + 8 ) % 16)\n",
    "\n",
    "from qiskit import pulse            # This is where we access all of our Pulse features!\n",
    "from qiskit.pulse import Play\n",
    "from qiskit.pulse import pulse_lib  # This Pulse module helps us build sampled pulses for common pulse shapes"
   ]
  },
  {
   "cell_type": "code",
   "execution_count": 18,
   "metadata": {},
   "outputs": [],
   "source": [
    "### Collect the necessary channels\n",
    "drive_chan = pulse.DriveChannel(qubit)\n",
    "meas_chan = pulse.MeasureChannel(qubit)\n",
    "acq_chan = pulse.AcquireChannel(qubit)\n",
    "\n",
    "inst_sched_map = backend_defaults.instruction_schedule_map\n",
    "measure = inst_sched_map.get('measure', qubits=qubit)"
   ]
  },
  {
   "cell_type": "code",
   "execution_count": 60,
   "metadata": {},
   "outputs": [],
   "source": [
    "from scipy.optimize import curve_fit\n",
    "\n",
    "def fit_function(x_values, y_values, function, init_params):\n",
    "    fitparams, conv = curve_fit(function, x_values, y_values, init_params)\n",
    "    y_fit = function(x_values, *fitparams)\n",
    "    \n",
    "    return fitparams, y_fit"
   ]
  },
  {
   "cell_type": "code",
   "execution_count": 206,
   "metadata": {},
   "outputs": [],
   "source": [
    "# Rabi experiment parameters\n",
    "num_amplitudes = 1\n",
    "num_rabi_points = 50\n",
    "\n",
    "# Drive amplitude values to iterate over: amplitudes evenly spaced from 0 to 0.75\n",
    "drive_amp_min = 0\n",
    "drive_amp_max = 0.75\n",
    "drive_amps = np.linspace(drive_amp_min, drive_amp_max, num_rabi_points)\n",
    "\n",
    "# Build the Rabi experiments:\n",
    "#    A drive pulse at the qubit frequency, followed by a measurement,\n",
    "#    where we vary the drive amplitude each time.\n",
    "\n",
    "rabi_schedules = []\n",
    "pulse_info = []\n",
    "\n",
    "for i in range(num_amplitudes):\n",
    "    # Drive pulse parameters (us = microseconds)\n",
    "    drive_sigma_us = 10 + (i * 0.01)        # This determines the actual width of the gaussian\n",
    "    drive_samples_us = 0.07*8        # This is a truncating parameter, because gaussians don't have \n",
    "                                               # a natural finite length\n",
    "\n",
    "    drive_sigma = get_closest_multiple_of_16(drive_sigma_us * us /dt)       # The width of the gaussian in units of dt\n",
    "    drive_samples = get_closest_multiple_of_16(drive_samples_us * us /dt)   # The truncating parameter in units of dt\n",
    "\n",
    "    pulse_info.append([drive_sigma, drive_samples])\n",
    "    \n",
    "    for drive_amp in drive_amps:\n",
    "        rabi_pulse = pulse_lib.gaussian(duration=drive_samples, amp=drive_amp, \n",
    "                                        sigma=drive_sigma, name=f\"Rabi drive amplitude = {drive_amp}\")\n",
    "        this_schedule = pulse.Schedule(name=f\"Rabi drive amplitude = {drive_amp}\")\n",
    "        this_schedule += Play(rabi_pulse, drive_chan)\n",
    "        # Reuse the measure instruction from the frequency sweep experiment\n",
    "        this_schedule += measure << this_schedule.duration\n",
    "        rabi_schedules.append(this_schedule)"
   ]
  },
  {
   "cell_type": "code",
   "execution_count": 207,
   "metadata": {},
   "outputs": [
    {
     "name": "stdout",
     "output_type": "stream",
     "text": [
      "5ee9a5ab28b087001ab2a2af\n",
      "Job Status: job has successfully run\n"
     ]
    }
   ],
   "source": [
    "# Assemble the schedules into a Qobj\n",
    "num_shots_per_point = 1024\n",
    "\n",
    "rabi_experiment_program = assemble(rabi_schedules,\n",
    "                                   backend=backend,\n",
    "                                   meas_level=1,\n",
    "                                   meas_return='avg',\n",
    "                                   shots=num_shots_per_point,\n",
    "                                   schedule_los=[{drive_chan: backend_defaults.qubit_freq_est[qubit]}]\n",
    "                                                * num_rabi_points * num_amplitudes)\n",
    "job = backend.run(rabi_experiment_program)\n",
    "print(job.job_id())\n",
    "job_monitor(job)"
   ]
  },
  {
   "cell_type": "code",
   "execution_count": 208,
   "metadata": {},
   "outputs": [],
   "source": [
    "rabi_results = job.result(timeout=120)\n",
    "\n",
    "# center data around 0\n",
    "def baseline_remove(values):\n",
    "    return np.array(values) - np.mean(values)\n",
    "rabi_values = []\n",
    "\n",
    "for i in range(num_amplitudes):\n",
    "    amp_values = []\n",
    "    for j in range(num_rabi_points):\n",
    "        # Get the results for `qubit` from the ith experiment\n",
    "        amp_values.append(rabi_results.get_memory(num_amplitudes*i + j)[qubit]*scale_factor)\n",
    "    rabi_values.append(amp_values)\n",
    "        \n",
    "rabi_values = [np.real(baseline_remove(x)) for x in rabi_values]"
   ]
  },
  {
   "cell_type": "code",
   "execution_count": 211,
   "metadata": {},
   "outputs": [],
   "source": [
    "rabi_fit_params = []\n",
    "y_fits = []\n",
    "\n",
    "for val in rabi_values:\n",
    "    fit_params, y_fit = fit_function(drive_amps,\n",
    "                                     val, \n",
    "                                     lambda x, A, B, drive_period, phi: (A*np.cos(2*np.pi*x/drive_period - phi) + B),\n",
    "                                     [6, 0.1, 0.2, 0])\n",
    "    rabi_fit_params.append(fit_params)\n",
    "    y_fits.append(y_fit)\n",
    "\n",
    "#     drive_period = fit_params[2] \n",
    "#     pi_amp = abs(drive_period / 2)"
   ]
  },
  {
   "cell_type": "code",
   "execution_count": 212,
   "metadata": {},
   "outputs": [
    {
     "data": {
      "text/plain": [
       "[<matplotlib.lines.Line2D at 0x22ea7109cc0>]"
      ]
     },
     "execution_count": 212,
     "metadata": {},
     "output_type": "execute_result"
    },
    {
     "data": {
      "image/png": "[encoded data removed]",
      "text/plain": [
       "<Figure size 432x288 with 1 Axes>"
      ]
     },
     "metadata": {},
     "output_type": "display_data"
    }
   ],
   "source": [
    "amp = 0\n",
    "plt.scatter(drive_amps, rabi_values[amp], color='black')\n",
    "plt.plot(drive_amps, y_fits[amp], color='red')"
   ]
  },
  {
   "cell_type": "code",
   "execution_count": 213,
   "metadata": {},
   "outputs": [
    {
     "name": "stdout",
     "output_type": "stream",
     "text": [
      "Pi Amplitude = 0.1288427939696463\n",
      "Duration = 2528\n",
      "Sigma = 45008\n",
      "\n"
     ]
    }
   ],
   "source": [
    "for i in range(num_amplitudes):\n",
    "    pi_amp = abs(rabi_fit_params[i][2] / 2)\n",
    "    pulse_info[i].append(pi_amp)\n",
    "    print(f\"Pi Amplitude = {abs(rabi_fit_params[i][2] / 2)}\")\n",
    "    print(f\"Duration = {pulse_info[i][1]}\")\n",
    "    print(f\"Sigma = {pulse_info[i][0]}\")\n",
    "    print()"
   ]
  },
  {
   "cell_type": "code",
   "execution_count": 201,
   "metadata": {},
   "outputs": [
    {
     "data": {
      "text/plain": [
       "[[96, 720, 0.8358788848870128]]"
      ]
     },
     "execution_count": 201,
     "metadata": {},
     "output_type": "execute_result"
    }
   ],
   "source": [
    "pulse_info"
   ]
  },
  {
   "cell_type": "code",
   "execution_count": 202,
   "metadata": {},
   "outputs": [],
   "source": [
    "num_rabi_points = 50\n",
    "\n",
    "# Build the Rabi experiments:\n",
    "#    A drive pulse at the qubit frequency, followed by a measurement,\n",
    "#    where we vary the drive amplitude each time.\n",
    "\n",
    "rabi_schedules = []\n",
    "durations = []\n",
    "for i in range(len(pulse_info)):\n",
    "    drive_samples = pulse_info[i][1]\n",
    "    for j in range(num_rabi_points):\n",
    "        duration = get_closest_multiple_of_16(drive_samples+(j*16))\n",
    "        rabi_pulse = pulse_lib.GaussianSquare(duration=duration, \n",
    "                                        amp=pulse_info[i][2], \n",
    "                                        sigma=pulse_info[i][0],\n",
    "                                        width=j*16,\n",
    "                                        name=f\"Rabi duration = {duration}\")\n",
    "\n",
    "        this_schedule = pulse.Schedule(name=f\"Rabi duration = {duration}\")\n",
    "        this_schedule += Play(rabi_pulse, drive_chan)\n",
    "        # Reuse the measure instruction from the frequency sweep experiment\n",
    "        this_schedule += measure << this_schedule.duration\n",
    "        rabi_schedules.append(this_schedule)\n",
    "        durations.append(duration)"
   ]
  },
  {
   "cell_type": "code",
   "execution_count": 203,
   "metadata": {},
   "outputs": [
    {
     "name": "stdout",
     "output_type": "stream",
     "text": [
      "5ee9a39b3fe92c001a26ca45\n",
      "Job Status: job has successfully run\n"
     ]
    }
   ],
   "source": [
    "# Assemble the schedules into a Qobj\n",
    "num_shots_per_point = 1024\n",
    "\n",
    "rabi_experiment_program = assemble(rabi_schedules,\n",
    "                                   backend=backend,\n",
    "                                   meas_level=1,\n",
    "                                   meas_return='avg',\n",
    "                                   shots=num_shots_per_point,\n",
    "                                   schedule_los=[{drive_chan: backend_defaults.qubit_freq_est[qubit]}]\n",
    "                                                * num_rabi_points)\n",
    "job = backend.run(rabi_experiment_program)\n",
    "print(job.job_id())\n",
    "job_monitor(job)"
   ]
  },
  {
   "cell_type": "code",
   "execution_count": 205,
   "metadata": {},
   "outputs": [
    {
     "data": {
      "image/png": "[encoded data removed]",
      "text/plain": [
       "<Figure size 432x288 with 1 Axes>"
      ]
     },
     "metadata": {},
     "output_type": "display_data"
    },
    {
     "name": "stdout",
     "output_type": "stream",
     "text": [
      "Period for amplitude = 0.8358788848870128, 1747.5439148745565\n"
     ]
    }
   ],
   "source": [
    "rabi_values = []\n",
    "for i in range(num_rabi_points):\n",
    "    # Get the results for `qubit` from the ith experiment\n",
    "    rabi_values.append(rabi_results.get_memory(i)[qubit]*scale_factor)\n",
    "rabi_values = np.real(baseline_remove(rabi_values))\n",
    "\n",
    "fit_func = lambda x,A,B,T,phi: (A*np.cos(2*np.pi*x/T+phi)+B)\n",
    "fit_params, conv = curve_fit(fit_func, durations, rabi_values, [8,0,800,0])\n",
    "y_fit = [fit_func(x, fit_params[0], fit_params[1], fit_params[2], fit_params[3]) for x in durations]\n",
    "\n",
    "plt.xlabel(\"Drive duration [dt]\")\n",
    "plt.ylabel(\"Measured signal [a.u.]\")\n",
    "plt.scatter(durations, rabi_values, color='black') # plot real part of Rabi values\n",
    "plt.plot(durations, y_fit, color='red')\n",
    "plt.show()\n",
    "print(f'Period for amplitude = {pulse_info[0][2]}, {fit_params[2]}')"
   ]
  },
  {
   "cell_type": "code",
   "execution_count": null,
   "metadata": {},
   "outputs": [],
   "source": []
  },
  {
   "cell_type": "code",
   "execution_count": null,
   "metadata": {},
   "outputs": [],
   "source": []
  }
 ],
 "metadata": {
  "kernelspec": {
   "display_name": "Python 3",
   "language": "python",
   "name": "python3"
  },
  "language_info": {
   "codemirror_mode": {
    "name": "ipython",
    "version": 3
   },
   "file_extension": ".py",
   "mimetype": "text/x-python",
   "name": "python",
   "nbconvert_exporter": "python",
   "pygments_lexer": "ipython3",
   "version": "3.6.7"
  }
 },
 "nbformat": 4,
 "nbformat_minor": 2
}
