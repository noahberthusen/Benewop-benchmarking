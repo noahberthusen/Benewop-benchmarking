{
 "cells": [
  {
   "cell_type": "code",
   "execution_count": 1,
   "metadata": {},
   "outputs": [],
   "source": [
    "import numpy as np\n",
    "from matplotlib import pyplot as plt\n",
    "\n",
    "from qiskit import *\n",
    "from qiskit.compiler import assemble\n",
    "from qiskit.pulse.commands.sample_pulse import SamplePulse\n",
    "from scipy.optimize import curve_fit \n",
    "import random\n",
    "import math\n",
    "from qiskit import pulse\n",
    "from qiskit.pulse import Play\n",
    "from qiskit.pulse import pulse_lib\n",
    "from qiskit.providers.aer import PulseSimulator\n",
    "from qiskit.providers.aer.pulse import PulseSystemModel"
   ]
  },
  {
   "cell_type": "code",
   "execution_count": 2,
   "metadata": {},
   "outputs": [],
   "source": [
    "provider = IBMQ.load_account()\n",
    "provider = IBMQ.get_provider(hub='ibm-q-ornl', group='ornl', project='phy141')\n",
    "backend = provider.get_backend('ibmq_armonk')\n",
    "props, config, defaults = (backend.properties(), backend.configuration(), backend.defaults())"
   ]
  },
  {
   "cell_type": "code",
   "execution_count": 3,
   "metadata": {},
   "outputs": [],
   "source": [
    "import numpy as np\n",
    "\n",
    "dt = config.dt\n",
    "\n",
    "# unit conversion factors -> all backend properties returned in SI (Hz, sec, etc)\n",
    "GHz = 1.0e9 # Gigahertz\n",
    "MHz = 1.0e6 # Megahertz\n",
    "us = 1.0e-6 # Microseconds\n",
    "ns = 1.0e-9 # Nanoseconds\n",
    "\n",
    "# We will find the qubit frequency for the following qubit.\n",
    "qb = 0\n",
    "\n",
    "# scale factor to remove factors of 10 from the data\n",
    "scale_factor = 1e-14"
   ]
  },
  {
   "cell_type": "code",
   "execution_count": 5,
   "metadata": {},
   "outputs": [],
   "source": [
    "### Collect the necessary channels\n",
    "drive_chan = pulse.DriveChannel(qb)\n",
    "meas_chan = pulse.MeasureChannel(qb)\n",
    "acq_chan = pulse.AcquireChannel(qb)\n",
    "\n",
    "inst_sched_map = defaults.instruction_schedule_map\n",
    "measure = inst_sched_map.get('measure', qubits=qb)"
   ]
  },
  {
   "cell_type": "code",
   "execution_count": 6,
   "metadata": {},
   "outputs": [],
   "source": [
    "Xp = lambda i: pulse.commands.SamplePulse([p for p in defaults.pulse_library\n",
    "                 if p.name=='Xp_d'+str(i)][0].samples, 'Xp'+str(i))"
   ]
  },
  {
   "cell_type": "code",
   "execution_count": 7,
   "metadata": {},
   "outputs": [],
   "source": [
    "from scipy.optimize import curve_fit\n",
    "\n",
    "def fit_function(x_values, y_values, function, init_params):\n",
    "    fitparams, conv = curve_fit(function, x_values, y_values, init_params)\n",
    "    y_fit = function(x_values, *fitparams)\n",
    "    \n",
    "    return fitparams, y_fit\n",
    "\n",
    "# center data around 0\n",
    "def baseline_remove(values):\n",
    "    return np.array(values) - np.mean(values)\n",
    "\n",
    "# samples need to be multiples of 16\n",
    "def get_closest_multiple_of_16(num):\n",
    "    return int(num + 8 ) - (int(num + 8 ) % 16)"
   ]
  },
  {
   "cell_type": "code",
   "execution_count": 8,
   "metadata": {},
   "outputs": [],
   "source": [
    "pulse_info = [[208, 1616, 0.4235238255511584],\n",
    " [240, 1984, 0.35785919192009924],\n",
    " [288, 2336, 0.29869942089171625],\n",
    " [336, 2704, 0.2538870311410756],\n",
    " [384, 3056, 0.22165413706048734],\n",
    " [432, 3424, 0.19926012331224413],\n",
    " [480, 3776, 0.17796453073600368],\n",
    " [512, 4144, 0.16745387953645477],\n",
    " [560, 4496, 0.15179216078521446],\n",
    " [608, 4864, 0.1403380794470017]]"
   ]
  },
  {
   "cell_type": "code",
   "execution_count": 18,
   "metadata": {},
   "outputs": [
    {
     "data": {
      "text/plain": [
       "array([   4500.,   31500.,   58500.,   85500.,  112500.,  139500.,\n",
       "        166500.,  193500.,  220500.,  247500.,  274500.,  301500.,\n",
       "        328500.,  355500.,  382500.,  409500.,  436500.,  463500.,\n",
       "        490500.,  517500.,  544500.,  571500.,  598500.,  625500.,\n",
       "        652500.,  679500.,  706500.,  733500.,  760500.,  787500.,\n",
       "        814500.,  841500.,  868500.,  895500.,  922500.,  949500.,\n",
       "        976500., 1003500., 1030500., 1057500., 1084500., 1111500.,\n",
       "       1138500., 1165500., 1192500., 1219500., 1246500., 1273500.,\n",
       "       1300500., 1327500., 1354500., 1381500., 1408500., 1435500.,\n",
       "       1462500., 1489500., 1516500., 1543500., 1570500., 1597500.,\n",
       "       1624500., 1651500., 1678500., 1705500., 1732500., 1759500.,\n",
       "       1786500., 1813500., 1840500., 1867500., 1894500., 1921500.,\n",
       "       1948500., 1975500., 2002500.])"
      ]
     },
     "execution_count": 18,
     "metadata": {},
     "output_type": "execute_result"
    }
   ],
   "source": [
    "delay_times_dt"
   ]
  },
  {
   "cell_type": "code",
   "execution_count": 20,
   "metadata": {},
   "outputs": [],
   "source": [
    "time_max_us = 450\n",
    "time_step_us = 6\n",
    "times_us = np.arange(1, time_max_us, time_step_us)\n",
    "\n",
    "delay_times_dt = times_us * us / config.dt\n",
    "\n",
    "t1_schedules = []\n",
    "for i in range(len(pulse_info)):\n",
    "    for delay in delay_times_dt:\n",
    "        sched = qiskit.pulse.Schedule(name=f'T1 delay + {delay * config.dt/us} us')\n",
    "        \n",
    "        sched += qiskit.pulse.Play(pulse_lib.gaussian(duration=pulse_info[i][1], \n",
    "                                                      amp=pulse_info[i][2], \n",
    "                                                      sigma=pulse_info[i][0], \n",
    "                                                      name=f\"Rabi drive amplitude = {pulse_info[i][2]}\"), drive_chan)\n",
    "#         sched += qiskit.pulse.Play(SamplePulse(Xp(qb).samples, name=f'Xp{qb}'), drive_chan)\n",
    "\n",
    "        sched += measure << (sched.duration + int(delay))\n",
    "        t1_schedules.append(sched)\n",
    "\n",
    "num_shots = 1024\n",
    "\n",
    "t1_experiment = assemble(t1_schedules,\n",
    "                        backend=backend, \n",
    "                        meas_level=1,\n",
    "                        meas_return='avg',\n",
    "                        shots=num_shots,\n",
    "                        schedule_los=[{drive_chan: defaults.qubit_freq_est[qb]}] * len(t1_schedules))\n",
    "job = backend.run(t1_experiment)"
   ]
  },
  {
   "cell_type": "code",
   "execution_count": 17,
   "metadata": {},
   "outputs": [
    {
     "data": {
      "image/png": "[encoded data removed]",
      "text/plain": [
       "<Figure size 720x864 with 1 Axes>"
      ]
     },
     "execution_count": 17,
     "metadata": {},
     "output_type": "execute_result"
    }
   ],
   "source": [
    "t1_schedules[3].draw()"
   ]
  },
  {
   "cell_type": "code",
   "execution_count": 19,
   "metadata": {},
   "outputs": [
    {
     "ename": "IBMQJobInvalidStateError",
     "evalue": "'Unable to retrieve result for job 5ef23f280935ad0012f62938. Job was cancelled.'",
     "output_type": "error",
     "traceback": [
      "\u001b[1;31m---------------------------------------------------------------------------\u001b[0m",
      "\u001b[1;31mIBMQJobInvalidStateError\u001b[0m                  Traceback (most recent call last)",
      "\u001b[1;32m<ipython-input-19-360651b2cb85>\u001b[0m in \u001b[0;36m<module>\u001b[1;34m()\u001b[0m\n\u001b[1;32m----> 1\u001b[1;33m \u001b[0mt1_results\u001b[0m \u001b[1;33m=\u001b[0m \u001b[0mjob\u001b[0m\u001b[1;33m.\u001b[0m\u001b[0mresult\u001b[0m\u001b[1;33m(\u001b[0m\u001b[0mtimeout\u001b[0m\u001b[1;33m=\u001b[0m\u001b[1;36m120\u001b[0m\u001b[1;33m)\u001b[0m\u001b[1;33m\u001b[0m\u001b[1;33m\u001b[0m\u001b[0m\n\u001b[0m\u001b[0;32m      2\u001b[0m \u001b[0mt1_values\u001b[0m \u001b[1;33m=\u001b[0m \u001b[1;33m[\u001b[0m\u001b[1;33m]\u001b[0m\u001b[1;33m\u001b[0m\u001b[1;33m\u001b[0m\u001b[0m\n\u001b[0;32m      3\u001b[0m \u001b[0mall_T1s\u001b[0m \u001b[1;33m=\u001b[0m \u001b[1;33m[\u001b[0m\u001b[1;33m]\u001b[0m\u001b[1;33m\u001b[0m\u001b[1;33m\u001b[0m\u001b[0m\n\u001b[0;32m      4\u001b[0m \u001b[0mall_fits\u001b[0m \u001b[1;33m=\u001b[0m \u001b[1;33m[\u001b[0m\u001b[1;33m]\u001b[0m\u001b[1;33m\u001b[0m\u001b[1;33m\u001b[0m\u001b[0m\n\u001b[0;32m      5\u001b[0m \u001b[1;33m\u001b[0m\u001b[0m\n",
      "\u001b[1;32m~\\AppData\\Roaming\\Python\\Python36\\site-packages\\qiskit\\providers\\ibmq\\job\\ibmqjob.py\u001b[0m in \u001b[0;36mresult\u001b[1;34m(self, timeout, wait, partial, refresh)\u001b[0m\n\u001b[0;32m    267\u001b[0m             \u001b[1;32mif\u001b[0m \u001b[0mself\u001b[0m\u001b[1;33m.\u001b[0m\u001b[0m_status\u001b[0m \u001b[1;32mis\u001b[0m \u001b[0mJobStatus\u001b[0m\u001b[1;33m.\u001b[0m\u001b[0mCANCELLED\u001b[0m\u001b[1;33m:\u001b[0m\u001b[1;33m\u001b[0m\u001b[1;33m\u001b[0m\u001b[0m\n\u001b[0;32m    268\u001b[0m                 raise IBMQJobInvalidStateError('Unable to retrieve result for job {}. '\n\u001b[1;32m--> 269\u001b[1;33m                                                'Job was cancelled.'.format(self.job_id()))\n\u001b[0m\u001b[0;32m    270\u001b[0m \u001b[1;33m\u001b[0m\u001b[0m\n\u001b[0;32m    271\u001b[0m             \u001b[1;32mif\u001b[0m \u001b[0mself\u001b[0m\u001b[1;33m.\u001b[0m\u001b[0m_status\u001b[0m \u001b[1;32mis\u001b[0m \u001b[0mJobStatus\u001b[0m\u001b[1;33m.\u001b[0m\u001b[0mERROR\u001b[0m \u001b[1;32mand\u001b[0m \u001b[1;32mnot\u001b[0m \u001b[0mpartial\u001b[0m\u001b[1;33m:\u001b[0m\u001b[1;33m\u001b[0m\u001b[1;33m\u001b[0m\u001b[0m\n",
      "\u001b[1;31mIBMQJobInvalidStateError\u001b[0m: 'Unable to retrieve result for job 5ef23f280935ad0012f62938. Job was cancelled.'"
     ]
    }
   ],
   "source": [
    "t1_results = job.result(timeout=120)\n",
    "t1_values = []\n",
    "all_T1s = []\n",
    "all_fits = []\n",
    "\n",
    "for i in range(len(pulse_info)):\n",
    "    single_amp_data = []\n",
    "    for j in range(len(delay_times_dt)):\n",
    "        single_amp_data.append(t1_results.get_memory((i * len(times_us) + j))[qb] * scale_factor)\n",
    "    \n",
    "    single_amp_data = np.real(single_amp_data)\n",
    "    t1_values.append(single_amp_data)\n",
    "    \n",
    "    fun = lambda x, A, C, T1: (A * np.exp(-x / T1) + C)\n",
    "    p, y_fit = fit_function(times_us, single_amp_data, fun, \n",
    "                     [-3, -3, 100])\n",
    "    _, _, T1 = p\n",
    "    all_T1s.append(T1)\n",
    "    all_fits.append(y_fit)"
   ]
  },
  {
   "cell_type": "code",
   "execution_count": 55,
   "metadata": {},
   "outputs": [
    {
     "data": {
      "text/plain": [
       "[<matplotlib.lines.Line2D at 0x26b8a8a0b70>]"
      ]
     },
     "execution_count": 55,
     "metadata": {},
     "output_type": "execute_result"
    },
    {
     "data": {
      "image/png": "[encoded data removed]",
      "text/plain": [
       "<Figure size 432x288 with 1 Axes>"
      ]
     },
     "metadata": {},
     "output_type": "display_data"
    }
   ],
   "source": [
    "a = 7\n",
    "plt.scatter(times_us, t1_values[a], color='black') # plot real part of Rabi values\n",
    "plt.plot(times_us, all_fits[a])"
   ]
  },
  {
   "cell_type": "code",
   "execution_count": 56,
   "metadata": {},
   "outputs": [
    {
     "data": {
      "text/plain": [
       "<matplotlib.collections.PathCollection at 0x26b88de2358>"
      ]
     },
     "execution_count": 56,
     "metadata": {},
     "output_type": "execute_result"
    },
    {
     "data": {
      "image/png": "[encoded data removed]",
      "text/plain": [
       "<Figure size 432x288 with 1 Axes>"
      ]
     },
     "metadata": {},
     "output_type": "display_data"
    }
   ],
   "source": [
    "plt.scatter(np.array(pulse_info)[:, 2], all_T1s)"
   ]
  },
  {
   "cell_type": "code",
   "execution_count": null,
   "metadata": {},
   "outputs": [],
   "source": []
  }
 ],
 "metadata": {
  "kernelspec": {
   "display_name": "Python 3",
   "language": "python",
   "name": "python3"
  },
  "language_info": {
   "codemirror_mode": {
    "name": "ipython",
    "version": 3
   },
   "file_extension": ".py",
   "mimetype": "text/x-python",
   "name": "python",
   "nbconvert_exporter": "python",
   "pygments_lexer": "ipython3",
   "version": "3.6.7"
  }
 },
 "nbformat": 4,
 "nbformat_minor": 2
}
