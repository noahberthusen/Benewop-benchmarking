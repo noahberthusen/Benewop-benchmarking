{
 "cells": [
  {
   "cell_type": "code",
   "execution_count": 2,
   "metadata": {},
   "outputs": [],
   "source": [
    "import numpy as np\n",
    "from matplotlib import pyplot as plt\n",
    "\n",
    "from scipy.optimize import curve_fit"
   ]
  },
  {
   "cell_type": "code",
   "execution_count": 5,
   "metadata": {},
   "outputs": [],
   "source": [
    "predict_const = 54.07447683508908\n",
    "predict_power = -0.9924372112785861\n",
    "\n",
    "P_to_amp = lambda P: np.power(np.divide(P, predict_const), (1/predict_power))\n",
    "K_amp = lambda A: A\n",
    "K_eff = lambda A, T1:np.divide(1, T1) + K_amp(A)\n",
    "\n",
    "periods = [1000, 1500, 2000, 2500, 3000, 3500, 4000]\n",
    "cycles = [5, 20, 40, 80, 160]\n",
    "\n",
    "accumulated_noise = lambda cycles, period, T1: np.multiply(K_eff(P_to_amp(period), T1), np.multiply(cycles, period))"
   ]
  },
  {
   "cell_type": "code",
   "execution_count": null,
   "metadata": {},
   "outputs": [],
   "source": []
  }
 ],
 "metadata": {
  "kernelspec": {
   "display_name": "Python 3",
   "language": "python",
   "name": "python3"
  },
  "language_info": {
   "codemirror_mode": {
    "name": "ipython",
    "version": 3
   },
   "file_extension": ".py",
   "mimetype": "text/x-python",
   "name": "python",
   "nbconvert_exporter": "python",
   "pygments_lexer": "ipython3",
   "version": "3.6.7"
  }
 },
 "nbformat": 4,
 "nbformat_minor": 2
}
