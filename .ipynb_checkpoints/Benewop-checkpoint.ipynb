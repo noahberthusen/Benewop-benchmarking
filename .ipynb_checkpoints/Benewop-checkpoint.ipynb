{
 "cells": [
  {
   "cell_type": "code",
   "execution_count": 1,
   "metadata": {},
   "outputs": [],
   "source": [
    "import numpy as np\n",
    "from matplotlib import pyplot as plt\n",
    "\n",
    "from qiskit import *\n",
    "from qiskit.compiler import assemble\n",
    "from qiskit.pulse.commands.sample_pulse import SamplePulse\n",
    "from scipy.optimize import curve_fit \n",
    "import random\n",
    "import math\n",
    "from qiskit import pulse\n",
    "from qiskit.pulse import Play\n",
    "from qiskit.pulse import pulse_lib\n",
    "from qiskit.providers.aer import PulseSimulator\n",
    "from qiskit.providers.aer.pulse import PulseSystemModel"
   ]
  },
  {
   "cell_type": "code",
   "execution_count": 2,
   "metadata": {},
   "outputs": [],
   "source": [
    "# Choose a real device to simulate\n",
    "provider = IBMQ.load_account()\n",
    "provider = IBMQ.get_provider(hub='ibm-q-ornl', group='ornl', project='phy141')\n",
    "backend = provider.get_backend('ibmq_johannesburg')\n",
    "props, config, defaults = (backend.properties(), backend.configuration(), backend.defaults())"
   ]
  },
  {
   "cell_type": "code",
   "execution_count": 58,
   "metadata": {},
   "outputs": [],
   "source": [
    "def describe_qubit(qubit, properties):\n",
    "    \"\"\"Print a string describing some of reported properties of the given qubit.\"\"\"\n",
    "\n",
    "    # Conversion factors from standard SI units\n",
    "    us = 1e6\n",
    "    ns = 1e9\n",
    "    GHz = 1e-9\n",
    "\n",
    "    print(\"Qubit {0} has a \\n\"\n",
    "          \"  - T1 time of {1} microseconds\\n\"\n",
    "          \"  - T2 time of {2} microseconds\\n\"\n",
    "          \"  - U2 gate error of {3}\\n\"\n",
    "          \"  - U2 gate duration of {4} nanoseconds\\n\"\n",
    "          \"  - resonant frequency of {5} GHz\".format(\n",
    "              qubit,\n",
    "              properties.t1(qubit) * us,\n",
    "              properties.t2(qubit) * us,\n",
    "              properties.gate_error('u2', qubit),\n",
    "              properties.gate_length('u2', qubit) * ns,\n",
    "              properties.frequency(qubit) * GHz))"
   ]
  },
  {
   "cell_type": "code",
   "execution_count": 4,
   "metadata": {},
   "outputs": [],
   "source": [
    "Xp = lambda i: pulse.commands.SamplePulse([p for p in defaults.pulse_library\n",
    "                 if p.name=='Xp_d'+str(i)][0].samples, 'Xp'+str(i))"
   ]
  },
  {
   "cell_type": "code",
   "execution_count": 5,
   "metadata": {},
   "outputs": [],
   "source": [
    "from scipy.optimize import curve_fit\n",
    "\n",
    "def fit_function(x_values, y_values, function, init_params):\n",
    "    fitparams, conv = curve_fit(function, x_values, y_values, init_params)\n",
    "#     y_fit = function(x_values, *fitparams)\n",
    "    \n",
    "    return fitparams #, y_fit\n",
    "\n",
    "# center data around 0\n",
    "def baseline_remove(values):\n",
    "    return np.array(values) - np.mean(values)\n",
    "\n",
    "# samples need to be multiples of 16\n",
    "def get_closest_multiple_of_16(num):\n",
    "    return int(num + 8 ) - (int(num + 8 ) % 16)"
   ]
  },
  {
   "cell_type": "code",
   "execution_count": 60,
   "metadata": {},
   "outputs": [
    {
     "name": "stdout",
     "output_type": "stream",
     "text": [
      "Qubit 0 has a \n",
      "  - T1 time of 59.30962259899035 microseconds\n",
      "  - T2 time of 68.86794142288495 microseconds\n",
      "  - U2 gate error of 0.000273143247940126\n",
      "  - U2 gate duration of 35.555555555555564 nanoseconds\n",
      "  - resonant frequency of 4.6648608396181235 GHz\n"
     ]
    }
   ],
   "source": [
    "qb = 0 # qubit to operate on\n",
    "\n",
    "### Collect the necessary channels\n",
    "drive_chan = pulse.DriveChannel(qb)\n",
    "meas_chan = pulse.MeasureChannel(qb)\n",
    "acq_chan = pulse.AcquireChannel(qb)\n",
    "\n",
    "circ_inst_map = defaults.instruction_schedule_map\n",
    "measure = circ_inst_map.get('measure', qubits=qb)\n",
    "\n",
    "describe_qubit(qb, props)"
   ]
  },
  {
   "cell_type": "code",
   "execution_count": 61,
   "metadata": {},
   "outputs": [],
   "source": [
    "shots = 1024 # determines clarity of results\n",
    "\n",
    "period = 200 # Rabi oscillation period\n",
    "cycles = [20] #5,20,40,80,160] # number of rabi cycles to perform for each oscillation\n",
    "datapoints_per_period = 50 # density of datapoints in a cycle capture\n",
    "cycles_to_plot = 4 # cycles to capture oscillation with, integer\n",
    "\n",
    "scale_factor = 1e-14\n",
    "predict_const = 49.3956772050695 #396.82938853064877\n",
    "predict_power = -1.0231367414552364 #-1.0324290902994375\n",
    "\n",
    "sig_predict_const = 7.282884895328527 #11.983152254860821\n",
    "sig_predict_power = -0.9802462726164923 #-0.9588199579308312"
   ]
  },
  {
   "cell_type": "code",
   "execution_count": 62,
   "metadata": {},
   "outputs": [
    {
     "name": "stdout",
     "output_type": "stream",
     "text": [
      "0.2549136421461804\n",
      "27\n",
      "4000\n"
     ]
    }
   ],
   "source": [
    "# begin with no pulses in the experiment\n",
    "experiments = []\n",
    "\n",
    "data_times = []\n",
    "drive_amp = np.power(period/predict_const,1/predict_power)\n",
    "s = lambda amp: sig_predict_const * np.power(amp, sig_predict_power)\n",
    "drive_sigma = int(s(drive_amp))\n",
    "print(drive_amp)\n",
    "print(drive_sigma)\n",
    "drive_amp = 0.6038771696486323\n",
    "\n",
    "for cycle in cycles:\n",
    "    drive_duration = period*cycle    \n",
    "    center_meas = get_closest_multiple_of_16(cycle*period)\n",
    "    print(center_meas)\n",
    "    num_points_per_period = int(period/16)\n",
    "\n",
    "    drive_times = range(center_meas - (cycles_to_plot//2)*num_points_per_period*16,\n",
    "                        center_meas + (cycles_to_plot//2)*num_points_per_period*16,\n",
    "                        16)\n",
    "    \n",
    "    times = []\n",
    "    for i in range(len(drive_times)):    \n",
    "        \n",
    "        rabi_pulse = pulse_lib.GaussianSquare(duration=drive_times[i], \n",
    "                                        amp=drive_amp, \n",
    "                                        sigma=drive_sigma,\n",
    "                                        width=drive_times[i]-(2*drive_sigma),\n",
    "                                        name=f\"Rabi duration = {i}\")\n",
    "        \n",
    "        this_schedule = pulse.Schedule(name=f\"Rabi duration = {i}\")\n",
    "        this_schedule += Play(rabi_pulse, drive_chan)\n",
    "\n",
    "        this_schedule += measure << this_schedule.duration\n",
    "        experiments.append(this_schedule)\n",
    "\n",
    "    data_times.append(drive_times)"
   ]
  },
  {
   "cell_type": "code",
   "execution_count": 63,
   "metadata": {},
   "outputs": [
    {
     "name": "stdout",
     "output_type": "stream",
     "text": [
      "191616\n"
     ]
    }
   ],
   "source": [
    "su = 0\n",
    "for d in data_times:\n",
    "    su += sum(d)\n",
    "print(su)"
   ]
  },
  {
   "cell_type": "code",
   "execution_count": 64,
   "metadata": {},
   "outputs": [],
   "source": [
    "schedule = pulse.Schedule(name='|0> state')\n",
    "schedule += measure << schedule.duration\n",
    "experiments.append(schedule) # add zero state to experiments\n",
    "\n",
    "schedule = pulse.Schedule(name='|1> state')\n",
    "schedule += Play(SamplePulse(Xp(qb).samples), drive_chan)\n",
    "schedule += measure << schedule.duration\n",
    "experiments.append(schedule) # add 1 state to experiments"
   ]
  },
  {
   "cell_type": "code",
   "execution_count": 65,
   "metadata": {},
   "outputs": [],
   "source": [
    "num_shots_per_point = 1024\n",
    "program = assemble(experiments,\n",
    "                   backend=backend,\n",
    "                   meas_level=1,\n",
    "                   meas_return='avg',\n",
    "                   shots=num_shots_per_point)\n",
    "job = backend.run(program)"
   ]
  },
  {
   "cell_type": "code",
   "execution_count": 66,
   "metadata": {},
   "outputs": [],
   "source": [
    "res = job.result(timeout=120)"
   ]
  },
  {
   "cell_type": "code",
   "execution_count": 67,
   "metadata": {},
   "outputs": [
    {
     "name": "stdout",
     "output_type": "stream",
     "text": [
      "9.399917396177894\n"
     ]
    }
   ],
   "source": [
    "qb_rabi_data = []\n",
    "all_params = []\n",
    "all_fits = []\n",
    "num_experiments = sum([len(x) for x in data_times])\n",
    "\n",
    "state0 = np.angle(res.get_memory(num_experiments)[qb] * scale_factor, deg=True)\n",
    "state1 = np.angle(res.get_memory(num_experiments+1)[qb] * scale_factor, deg=True)\n",
    "# state0 = np.real(res.get_memory(num_experiments)[qb] * scale_factor)\n",
    "# state1 = np.real(res.get_memory(num_experiments+1)[qb] * scale_factor)\n",
    "\n",
    "past_exp = 0\n",
    "for i in range(len(cycles)):\n",
    "    single_period_data = []\n",
    "    for j in range(len(data_times[i])):\n",
    "        # Get the results for `qubit` from the ith experiment\n",
    "        single_period_data.append(res.get_memory(past_exp+j)[qb]*scale_factor)\n",
    "    single_period_data = np.angle(single_period_data, deg=True)\n",
    "    qb_rabi_data.append(np.real(single_period_data))\n",
    "    past_exp += len(data_times[i])\n",
    "    \n",
    "    fun = lambda x, A, B, drive_period, phi: (A*np.cos(2*np.pi*x/drive_period - phi) + B)\n",
    "    print(np.max(qb_rabi_data[i]) - np.min(qb_rabi_data[i]))\n",
    "    p = fit_function(list(data_times[0]), qb_rabi_data[i], fun, [np.max(qb_rabi_data[i]) - np.min(qb_rabi_data[i]), 0, period, 0])\n",
    "    all_params.append(p)\n",
    "    \n",
    "    y_fit = [fun(x, p[0], p[1], p[2], p[3]) for x in data_times[0]]\n",
    "    all_fits.append(y_fit)"
   ]
  },
  {
   "cell_type": "code",
   "execution_count": 68,
   "metadata": {},
   "outputs": [
    {
     "name": "stdout",
     "output_type": "stream",
     "text": [
      "Period: 221.8290996524347 dt\n"
     ]
    },
    {
     "data": {
      "image/png": "[encoded data removed]",
      "text/plain": [
       "<Figure size 800x480 with 1 Axes>"
      ]
     },
     "metadata": {},
     "output_type": "display_data"
    }
   ],
   "source": [
    "from matplotlib.pyplot import figure\n",
    "figure(num=None, figsize=(10, 6), dpi=80, facecolor='w', edgecolor='k')\n",
    "\n",
    "end_plot_time = (period*cycles[-1])+(len(data_times[-1])*16)\n",
    "plt.plot([0, end_plot_time],2*[state0],label=\"|0> state\")\n",
    "plt.plot([0, end_plot_time],2*[state1],label=\"|1> state\")\n",
    "\n",
    "for i in range(len(cycles)):\n",
    "    plt.scatter(data_times[i], qb_rabi_data[i], color='black') # plot real part of Rabi values\n",
    "    plt.plot(data_times[i], all_fits[i], \n",
    "             label=\"cycles = \" + str(cycles[i]) + \", Designed Period = \" + str(period) + \", Fit Period(dt) = \" + str(np.around(all_params[i][2],decimals=4)))\n",
    "print(f'Period: {p[2]} dt')\n",
    "plt.legend(loc='upper right', fontsize=12)\n",
    "plt.xlabel('Drive time, [dt]', fontsize=16)\n",
    "plt.ylabel('IQ Phase, [degrees]', fontsize=16)\n",
    "plt.title(\"Rabi Oscillations Varying Pulse Duration vs IQ phase, Period =\" + str(period) + \", qb = \" + str(qb), fontsize=16)\n",
    "plt.show()"
   ]
  },
  {
   "cell_type": "code",
   "execution_count": 69,
   "metadata": {},
   "outputs": [
    {
     "data": {
      "image/png": "[encoded data removed]",
      "text/plain": [
       "<Figure size 432x288 with 1 Axes>"
      ]
     },
     "metadata": {},
     "output_type": "display_data"
    }
   ],
   "source": [
    "for i in range(1):\n",
    "    plt.scatter(data_times[0], qb_rabi_data[0], color='black') "
   ]
  },
  {
   "cell_type": "code",
   "execution_count": null,
   "metadata": {},
   "outputs": [],
   "source": []
  }
 ],
 "metadata": {
  "kernelspec": {
   "display_name": "Python 3",
   "language": "python",
   "name": "python3"
  },
  "language_info": {
   "codemirror_mode": {
    "name": "ipython",
    "version": 3
   },
   "file_extension": ".py",
   "mimetype": "text/x-python",
   "name": "python",
   "nbconvert_exporter": "python",
   "pygments_lexer": "ipython3",
   "version": "3.6.7"
  }
 },
 "nbformat": 4,
 "nbformat_minor": 2
}
