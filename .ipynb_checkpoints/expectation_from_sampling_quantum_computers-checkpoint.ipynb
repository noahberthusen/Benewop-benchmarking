{
 "cells": [
  {
   "cell_type": "markdown",
   "metadata": {},
   "source": [
    "expectation value computation\n",
    "\n",
    "To compute the expectation value of an operator $O$ from the output counts of a quantum computer, you need to perform two steps.\n",
    "* first, get your quantum register into the state you want to computer the observable of. this is the state prep step.\n",
    "* next, operate on the wavefunction with operators that place you in the basis of the observable. Note that on quantum computers, measurements take place in only one basis, the computational basis (Z basis).\n",
    "* Therefore you need to transform the current basis such that the computational basis is rotated onto the measurement basis. As an example, consider measuring $\\left<X \\right>$. This is a measurement in the X basis. Therefore we transform to the X basis and then measure in the computational basis (as always).\n",
    "* as a general rule, to figure out the operators needed for the basis change, just find the matrix that diagonalizes your observable. OTOH, With small Pauli observables this step can basically be skipped as you can eyeball what the basis change should be. But the general way to do this is: find $U$ such that $$O = \\sum_{i}\\lambda_i |v_i\\rangle \\langle v_i|= U^\\dagger \\Lambda U,$$\n",
    "where $\\Lambda$ is diagonal.\n",
    "* after applying the basis change, measure the quantum register in the computational basis, and record the counts for all eigenvectors. Compute the probabilities for each eigenvector from the counts\n",
    "* In general, an expectation value can be computed from observables by summing over the product of eignevlaues of each eigenvector multiplied by the probabilities of each eigenvector. That is, $$\\langle \\psi | O | \\psi\\rangle = \\langle\\psi'|\\Lambda|\\psi'\\rangle = \\sum_i \\langle\\psi'|i\\rangle \\langle i | \\Lambda | i\\rangle \\langle i|\\psi'\\rangle = \\sum_i \\lambda_i \\mathbb{P}_i$$\n",
    "* The eigenvalues are all either -1 or +1 here\n",
    "* as an illustrative example, consider measuring $\\left<XX\\right>$. To make the computational basis coincide with the $X$ basis, do a Hadamard. Here we need to measure each of two qubits in the $X$ basis The quantum computer will output counts for the following eigenstates.\n",
    "$$\\left|00\\right>$$\n",
    "$$\\left|11\\right>$$\n",
    "$$\\left|01\\right>$$\n",
    "$$\\left|10\\right>$$\n",
    "From these counts you can compute $P_{00}$, $P_{01}$, and so on. $XX$ has +1 eigenstates of $\\left|00\\right>$ and $\\left|11\\right>$ and -1 eigenstates of the others. This is because when we did the basis change, the state $\\left|00\\right>$ in the computational basis coincides with the $\\left|--\\right>$ state which is an eigenstate of $XX$, and so on. So keeping in mind that the eignevalues were already found and are $\\pm 1$, we have $$\\left<XX\\right> = \\sum_i \\lambda_i \\mathbb{P}_i = P_{00} + P_{11} - P_{01} - P_{10}$$"
   ]
  },
  {
   "cell_type": "markdown",
   "metadata": {},
   "source": []
  }
 ],
 "metadata": {
  "kernel_info": {
   "name": "python3"
  },
  "kernelspec": {
   "display_name": "Python 3",
   "language": "python",
   "name": "python3"
  },
  "language_info": {
   "codemirror_mode": {
    "name": "ipython",
    "version": 3
   },
   "file_extension": ".py",
   "mimetype": "text/x-python",
   "name": "python",
   "nbconvert_exporter": "python",
   "pygments_lexer": "ipython3",
   "version": "3.6.7"
  },
  "nteract": {
   "version": "0.14.4"
  }
 },
 "nbformat": 4,
 "nbformat_minor": 1
}
