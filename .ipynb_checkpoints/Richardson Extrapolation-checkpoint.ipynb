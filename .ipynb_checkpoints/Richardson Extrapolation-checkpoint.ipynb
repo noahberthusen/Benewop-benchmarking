{
 "cells": [
  {
   "cell_type": "code",
   "execution_count": 25,
   "metadata": {},
   "outputs": [],
   "source": [
    "import numpy as np\n",
    "from qiskit import IBMQ, Aer\n",
    "from qiskit import execute, QuantumCircuit, QuantumRegister, ClassicalRegister\n",
    "from qiskit.tools.visualization import plot_histogram\n",
    "\n",
    "# Import from Qiskit Aer noise module\n",
    "from qiskit.providers.aer.noise import NoiseModel\n",
    "from qiskit.providers.aer.noise import QuantumError, ReadoutError\n",
    "from qiskit.providers.aer.noise import pauli_error\n",
    "from qiskit.providers.aer.noise import depolarizing_error\n",
    "from qiskit.providers.aer.noise import thermal_relaxation_error\n",
    "import qiskit.providers.aer.noise as noise\n",
    "\n",
    "from qiskit.providers.ibmq.managed import IBMQJobManager\n",
    "from qiskit.compiler import transpile, assemble\n",
    "\n",
    "import matplotlib.pyplot as plt\n",
    "from scipy.optimize import curve_fit \n",
    "import random\n",
    "import math\n",
    "%matplotlib inline"
   ]
  },
  {
   "cell_type": "code",
   "execution_count": 2,
   "metadata": {},
   "outputs": [],
   "source": [
    "# Choose a real device to simulate\n",
    "provider = IBMQ.load_account()\n",
    "backend = provider.get_backend('ibmqx2')\n",
    "\n",
    "# properties = backend.properties()\n",
    "# coupling_map = backend.configuration().coupling_map\n",
    "\n",
    "# noise_model = NoiseModel.from_backend(backend)\n",
    "# basis_gates = noise_model.basis_gates"
   ]
  },
  {
   "cell_type": "code",
   "execution_count": 46,
   "metadata": {},
   "outputs": [
    {
     "data": {
      "text/plain": [
       "[<IBMQSimulator('ibmq_qasm_simulator') from IBMQ(hub='ibm-q', group='open', project='main')>,\n",
       " <IBMQBackend('ibmqx2') from IBMQ(hub='ibm-q', group='open', project='main')>,\n",
       " <IBMQBackend('ibmq_16_melbourne') from IBMQ(hub='ibm-q', group='open', project='main')>,\n",
       " <IBMQBackend('ibmq_vigo') from IBMQ(hub='ibm-q', group='open', project='main')>,\n",
       " <IBMQBackend('ibmq_ourense') from IBMQ(hub='ibm-q', group='open', project='main')>,\n",
       " <IBMQBackend('ibmq_london') from IBMQ(hub='ibm-q', group='open', project='main')>,\n",
       " <IBMQBackend('ibmq_burlington') from IBMQ(hub='ibm-q', group='open', project='main')>,\n",
       " <IBMQBackend('ibmq_essex') from IBMQ(hub='ibm-q', group='open', project='main')>,\n",
       " <IBMQBackend('ibmq_armonk') from IBMQ(hub='ibm-q', group='open', project='main')>,\n",
       " <IBMQBackend('ibmq_rome') from IBMQ(hub='ibm-q', group='open', project='main')>]"
      ]
     },
     "execution_count": 46,
     "metadata": {},
     "output_type": "execute_result"
    }
   ],
   "source": [
    "provider.backends()"
   ]
  },
  {
   "cell_type": "code",
   "execution_count": 36,
   "metadata": {},
   "outputs": [],
   "source": [
    "circs = []\n",
    "\n",
    "num_steps = 7\n",
    "num_shots = 8192\n",
    "theta = random.uniform(math.pi, 2*math.pi)\n",
    "steps = range(1, (num_steps * 2) + 1, 2)\n",
    "\n",
    "for i in steps:  \n",
    "    qr = QuantumRegister(2)\n",
    "    cr = ClassicalRegister(2)\n",
    "    \n",
    "    circ = QuantumCircuit(qr, cr)\n",
    "    \n",
    "    circ.x(qr[0])\n",
    "    circ.ry(theta, qr[1])\n",
    "    \n",
    "    for j in range(i):\n",
    "        circ.cx(qr[0], qr[1])\n",
    "    \n",
    "    circ.measure(qr, cr)\n",
    "    \n",
    "    circs.append(circ)"
   ]
  },
  {
   "cell_type": "code",
   "execution_count": 37,
   "metadata": {},
   "outputs": [
    {
     "data": {
      "text/html": [
       "<pre style=\"word-wrap: normal;white-space: pre;background: #fff0;line-height: 1.1;font-family: &quot;Courier New&quot;,Courier,monospace\">           ┌───┐                              ┌─┐   \n",
       "q21_0: ────┤ X ├───────■────■────■────■────■──┤M├───\n",
       "       ┌───┴───┴────┐┌─┴─┐┌─┴─┐┌─┴─┐┌─┴─┐┌─┴─┐└╥┘┌─┐\n",
       "q21_1: ┤ RY(3.8553) ├┤ X ├┤ X ├┤ X ├┤ X ├┤ X ├─╫─┤M├\n",
       "       └────────────┘└───┘└───┘└───┘└───┘└───┘ ║ └╥┘\n",
       "c21_0: ════════════════════════════════════════╩══╬═\n",
       "                                                  ║ \n",
       "c21_1: ═══════════════════════════════════════════╩═\n",
       "                                                    </pre>"
      ],
      "text/plain": [
       "           ┌───┐                              ┌─┐   \n",
       "q21_0: ────┤ X ├───────■────■────■────■────■──┤M├───\n",
       "       ┌───┴───┴────┐┌─┴─┐┌─┴─┐┌─┴─┐┌─┴─┐┌─┴─┐└╥┘┌─┐\n",
       "q21_1: ┤ RY(3.8553) ├┤ X ├┤ X ├┤ X ├┤ X ├┤ X ├─╫─┤M├\n",
       "       └────────────┘└───┘└───┘└───┘└───┘└───┘ ║ └╥┘\n",
       "c21_0: ════════════════════════════════════════╩══╬═\n",
       "                                                  ║ \n",
       "c21_1: ═══════════════════════════════════════════╩═\n",
       "                                                    "
      ]
     },
     "execution_count": 37,
     "metadata": {},
     "output_type": "execute_result"
    }
   ],
   "source": [
    "circs[2].draw()"
   ]
  },
  {
   "cell_type": "code",
   "execution_count": 38,
   "metadata": {},
   "outputs": [],
   "source": [
    "circs = [transpile(circ, backend=backend, optimization_level=0) for circ in circs]\n",
    "# mapped_circuit = transpile(circ, backend=backend)\n",
    "# qobj = assemble(mapped_circuit, backend=backend, shots=1024)\n",
    "# job = backend.run(qobj)\n",
    "\n",
    "# Submit them all to the backend\n",
    "job_manager = IBMQJobManager()\n",
    "job_set = job_manager.run(circs, backend=backend, name='extrapo')"
   ]
  },
  {
   "cell_type": "code",
   "execution_count": 39,
   "metadata": {},
   "outputs": [
    {
     "name": "stdout",
     "output_type": "stream",
     "text": [
      "Job set name: extrapo\n",
      "          ID: 199581dbfd8d420aa1d66381961ee85d-15916506535792935\n",
      "        tags: []\n",
      "Summary report:\n",
      "       Total jobs: 1\n",
      "  Successful jobs: 0\n",
      "      Failed jobs: 0\n",
      "   Cancelled jobs: 0\n",
      "     Running jobs: 0\n",
      "     Pending jobs: 1\n",
      "\n",
      "Detail report:\n",
      "  experiments: 0-6\n",
      "    job index: 0\n",
      "    status: job is being initialized\n"
     ]
    }
   ],
   "source": [
    "print(job_set.report())"
   ]
  },
  {
   "cell_type": "code",
   "execution_count": 40,
   "metadata": {},
   "outputs": [],
   "source": [
    "# Grab the results from the job.\n",
    "results = job_set.results()\n",
    "res = []\n",
    "\n",
    "for i in range(num_steps):\n",
    "    res.append(results.get_counts(i))"
   ]
  },
  {
   "cell_type": "code",
   "execution_count": 41,
   "metadata": {},
   "outputs": [
    {
     "data": {
      "text/plain": [
       "[{'11': 88, '10': 5, '00': 26, '01': 905},\n",
       " {'11': 124, '10': 21, '00': 50, '01': 829},\n",
       " {'11': 102, '10': 18, '00': 44, '01': 860},\n",
       " {'11': 159, '10': 30, '00': 50, '01': 785},\n",
       " {'11': 150, '10': 34, '00': 47, '01': 793},\n",
       " {'11': 167, '10': 42, '00': 66, '01': 749},\n",
       " {'11': 166, '10': 29, '00': 46, '01': 783}]"
      ]
     },
     "execution_count": 41,
     "metadata": {},
     "output_type": "execute_result"
    }
   ],
   "source": [
    "res"
   ]
  },
  {
   "cell_type": "code",
   "execution_count": 42,
   "metadata": {},
   "outputs": [
    {
     "data": {
      "image/png": "[encoded data removed]",
      "text/plain": [
       "<Figure size 504x360 with 1 Axes>"
      ]
     },
     "execution_count": 42,
     "metadata": {},
     "output_type": "execute_result"
    }
   ],
   "source": [
    "plot_histogram(res[5])"
   ]
  },
  {
   "cell_type": "code",
   "execution_count": 43,
   "metadata": {},
   "outputs": [],
   "source": [
    "expectation = [(x['00'] + x['11'] - x['01'] - x['10']) / num_shots for x in res]"
   ]
  },
  {
   "cell_type": "code",
   "execution_count": 44,
   "metadata": {},
   "outputs": [
    {
     "data": {
      "image/png": "[encoded data removed]",
      "text/plain": [
       "<Figure size 432x288 with 1 Axes>"
      ]
     },
     "metadata": {},
     "output_type": "display_data"
    }
   ],
   "source": [
    "def test(x, a, b): \n",
    "    return a*x + b\n",
    "param, param_cov = curve_fit(test, steps, expectation)\n",
    "\n",
    "ans = [param[0]*x + param[1] for x in steps]\n",
    "\n",
    "plt.plot(steps, expectation, 'o', color ='red', label =\"data\") \n",
    "plt.plot(steps, ans, '--', color ='blue', label =\"optimized data\") \n",
    "plt.legend() \n",
    "plt.show() "
   ]
  },
  {
   "cell_type": "code",
   "execution_count": null,
   "metadata": {},
   "outputs": [],
   "source": []
  }
 ],
 "metadata": {
  "kernelspec": {
   "display_name": "Python 3",
   "language": "python",
   "name": "python3"
  },
  "language_info": {
   "codemirror_mode": {
    "name": "ipython",
    "version": 3
   },
   "file_extension": ".py",
   "mimetype": "text/x-python",
   "name": "python",
   "nbconvert_exporter": "python",
   "pygments_lexer": "ipython3",
   "version": "3.6.7"
  }
 },
 "nbformat": 4,
 "nbformat_minor": 2
}
