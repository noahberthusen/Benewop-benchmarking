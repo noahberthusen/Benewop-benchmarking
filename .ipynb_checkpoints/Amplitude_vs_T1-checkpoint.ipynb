{
 "cells": [
  {
   "cell_type": "code",
   "execution_count": 1,
   "metadata": {},
   "outputs": [],
   "source": [
    "import numpy as np\n",
    "from matplotlib import pyplot as plt\n",
    "\n",
    "from qiskit import *\n",
    "from qiskit.compiler import assemble\n",
    "from qiskit.pulse.commands.sample_pulse import SamplePulse\n",
    "from scipy.optimize import curve_fit \n",
    "import random\n",
    "import math\n",
    "from qiskit import pulse\n",
    "from qiskit.pulse import Play\n",
    "from qiskit.pulse import pulse_lib\n",
    "from qiskit.providers.aer import PulseSimulator\n",
    "from qiskit.providers.aer.pulse import PulseSystemModel"
   ]
  },
  {
   "cell_type": "code",
   "execution_count": 2,
   "metadata": {},
   "outputs": [],
   "source": [
    "provider = IBMQ.load_account()\n",
    "provider = IBMQ.get_provider(hub='ibm-q-ornl', group='ornl', project='phy141')\n",
    "backend = provider.get_backend('ibmq_johannesburg')\n",
    "props, config, defaults = (backend.properties(), backend.configuration(), backend.defaults())"
   ]
  },
  {
   "cell_type": "code",
   "execution_count": 3,
   "metadata": {},
   "outputs": [],
   "source": [
    "def describe_qubit(qubit, properties):\n",
    "    \"\"\"Print a string describing some of reported properties of the given qubit.\"\"\"\n",
    "\n",
    "    # Conversion factors from standard SI units\n",
    "    us = 1e6\n",
    "    ns = 1e9\n",
    "    GHz = 1e-9\n",
    "\n",
    "    print(\"Qubit {0} has a \\n\"\n",
    "          \"  - T1 time of {1} microseconds\\n\"\n",
    "          \"  - T2 time of {2} microseconds\\n\"\n",
    "          \"  - U2 gate error of {3}\\n\"\n",
    "          \"  - U2 gate duration of {4} nanoseconds\\n\"\n",
    "          \"  - resonant frequency of {5} GHz\".format(\n",
    "              qubit,\n",
    "              properties.t1(qubit) * us,\n",
    "              properties.t2(qubit) * us,\n",
    "              properties.gate_error('u2', qubit),\n",
    "              properties.gate_length('u2', qubit) * ns,\n",
    "              properties.frequency(qubit) * GHz))"
   ]
  },
  {
   "cell_type": "code",
   "execution_count": 4,
   "metadata": {},
   "outputs": [
    {
     "name": "stdout",
     "output_type": "stream",
     "text": [
      "Qubit 0 has a \n",
      "  - T1 time of 66.0425002006581 microseconds\n",
      "  - T2 time of 84.77147856762824 microseconds\n",
      "  - U2 gate error of 0.00019308121290158328\n",
      "  - U2 gate duration of 35.555555555555564 nanoseconds\n",
      "  - resonant frequency of 4.664864310301346 GHz\n"
     ]
    }
   ],
   "source": [
    "import numpy as np\n",
    "\n",
    "dt = config.dt\n",
    "\n",
    "# unit conversion factors -> all backend properties returned in SI (Hz, sec, etc)\n",
    "GHz = 1.0e9 # Gigahertz\n",
    "MHz = 1.0e6 # Megahertz\n",
    "us = 1.0e-6 # Microseconds\n",
    "ns = 1.0e-9 # Nanoseconds\n",
    "\n",
    "# We will find the qubit frequency for the following qubit.\n",
    "qb = 0\n",
    "\n",
    "# scale factor to remove factors of 10 from the data\n",
    "scale_factor = 1e-14\n",
    "describe_qubit(qb, props)"
   ]
  },
  {
   "cell_type": "code",
   "execution_count": 5,
   "metadata": {},
   "outputs": [],
   "source": [
    "### Collect the necessary channels\n",
    "drive_chan = pulse.DriveChannel(qb)\n",
    "meas_chan = pulse.MeasureChannel(qb)\n",
    "acq_chan = pulse.AcquireChannel(qb)\n",
    "\n",
    "inst_sched_map = defaults.instruction_schedule_map\n",
    "measure = inst_sched_map.get('measure', qubits=qb)"
   ]
  },
  {
   "cell_type": "code",
   "execution_count": 6,
   "metadata": {},
   "outputs": [],
   "source": [
    "Xp = lambda i: pulse.commands.SamplePulse([p for p in defaults.pulse_library\n",
    "                 if p.name=='Xp_d'+str(i)][0].samples, 'Xp'+str(i))"
   ]
  },
  {
   "cell_type": "code",
   "execution_count": 7,
   "metadata": {},
   "outputs": [],
   "source": [
    "from scipy.optimize import curve_fit\n",
    "\n",
    "def fit_function(x_values, y_values, function, init_params):\n",
    "    fitparams, conv = curve_fit(function, x_values, y_values, init_params)\n",
    "    y_fit = function(x_values, *fitparams)\n",
    "    \n",
    "    return fitparams, y_fit\n",
    "\n",
    "# center data around 0\n",
    "def baseline_remove(values):\n",
    "    return np.array(values) - np.mean(values)\n",
    "\n",
    "# samples need to be multiples of 16\n",
    "def get_closest_multiple_of_16(num):\n",
    "    return int(num + 8 ) - (int(num + 8 ) % 16)"
   ]
  },
  {
   "cell_type": "code",
   "execution_count": 11,
   "metadata": {},
   "outputs": [],
   "source": [
    "pulse_info = [[16, 80, 0.746812671196298],\n",
    " [16, 112, 0.7728705049061994],\n",
    " [16, 176, 0.6585249221137706],\n",
    " [32, 256, 0.3697423251225845],\n",
    " [48, 400, 0.22222851740909544],\n",
    " [80, 608, 0.13313518634587407],\n",
    " [112, 944, 0.09471767851172616],\n",
    " [176, 1440, 0.05962263431168813]]"
   ]
  },
  {
   "cell_type": "code",
   "execution_count": 20,
   "metadata": {},
   "outputs": [],
   "source": [
    "time_max_us = 450\n",
    "time_step_us = 6\n",
    "times_us = np.arange(1, time_max_us, time_step_us)\n",
    "\n",
    "delay_times_dt = times_us * us / config.dt\n",
    "\n",
    "t1_schedules = []\n",
    "for i in range(len(pulse_info)):\n",
    "    for delay in delay_times_dt:\n",
    "        sched = qiskit.pulse.Schedule(name=f'T1 delay + {delay * config.dt/us} us')\n",
    "        \n",
    "        sched += qiskit.pulse.Play(pulse_lib.gaussian(duration=pulse_info[i][1], \n",
    "                                                      amp=pulse_info[i][2], \n",
    "                                                      sigma=pulse_info[i][0], \n",
    "                                                      name=f\"Rabi drive amplitude = {pulse_info[i][2]}\"), drive_chan)\n",
    "#         sched += qiskit.pulse.Play(SamplePulse(Xp(qb).samples, name=f'Xp{qb}'), drive_chan)\n",
    "\n",
    "        sched |= measure << int(delay)\n",
    "        t1_schedules.append(sched)\n",
    "\n",
    "num_shots = 512\n",
    "\n",
    "schedule = pulse.Schedule(name='|0> state')\n",
    "schedule += measure << schedule.duration\n",
    "t1_schedules.append(schedule) # add zero state to experiments\n",
    "\n",
    "schedule = pulse.Schedule(name='|1> state')\n",
    "schedule += Play(SamplePulse(Xp(qb).samples), drive_chan)\n",
    "schedule += measure << schedule.duration\n",
    "t1_schedules.append(schedule) # add 1 state to experiments"
   ]
  },
  {
   "cell_type": "code",
   "execution_count": 21,
   "metadata": {},
   "outputs": [],
   "source": [
    "t1_experiment = assemble(t1_schedules,\n",
    "                        backend=backend, \n",
    "                        meas_level=1,\n",
    "                        meas_return='avg',\n",
    "                        shots=num_shots,\n",
    "                        schedule_los=[{drive_chan: defaults.qubit_freq_est[qb]}] * len(t1_schedules))\n",
    "job = backend.run(t1_experiment)"
   ]
  },
  {
   "cell_type": "code",
   "execution_count": 23,
   "metadata": {},
   "outputs": [
    {
     "ename": "IBMQJobFailureError",
     "evalue": "'Unable to retrieve result for job 5ef38512f869ef001379d8b5. Job has failed. Use job.error_message() to get more details.'",
     "output_type": "error",
     "traceback": [
      "\u001b[1;31m---------------------------------------------------------------------------\u001b[0m",
      "\u001b[1;31mIBMQJobFailureError\u001b[0m                       Traceback (most recent call last)",
      "\u001b[1;32m<ipython-input-23-d2ddff9206c9>\u001b[0m in \u001b[0;36m<module>\u001b[1;34m()\u001b[0m\n\u001b[1;32m----> 1\u001b[1;33m \u001b[0mt1_results\u001b[0m \u001b[1;33m=\u001b[0m \u001b[0mjob\u001b[0m\u001b[1;33m.\u001b[0m\u001b[0mresult\u001b[0m\u001b[1;33m(\u001b[0m\u001b[0mtimeout\u001b[0m\u001b[1;33m=\u001b[0m\u001b[1;36m120\u001b[0m\u001b[1;33m)\u001b[0m\u001b[1;33m\u001b[0m\u001b[1;33m\u001b[0m\u001b[0m\n\u001b[0m\u001b[0;32m      2\u001b[0m \u001b[0mt1_values\u001b[0m \u001b[1;33m=\u001b[0m \u001b[1;33m[\u001b[0m\u001b[1;33m]\u001b[0m\u001b[1;33m\u001b[0m\u001b[1;33m\u001b[0m\u001b[0m\n\u001b[0;32m      3\u001b[0m \u001b[0mall_T1s\u001b[0m \u001b[1;33m=\u001b[0m \u001b[1;33m[\u001b[0m\u001b[1;33m]\u001b[0m\u001b[1;33m\u001b[0m\u001b[1;33m\u001b[0m\u001b[0m\n\u001b[0;32m      4\u001b[0m \u001b[0mall_fits\u001b[0m \u001b[1;33m=\u001b[0m \u001b[1;33m[\u001b[0m\u001b[1;33m]\u001b[0m\u001b[1;33m\u001b[0m\u001b[1;33m\u001b[0m\u001b[0m\n\u001b[0;32m      5\u001b[0m \u001b[1;33m\u001b[0m\u001b[0m\n",
      "\u001b[1;32m~\\AppData\\Roaming\\Python\\Python36\\site-packages\\qiskit\\providers\\ibmq\\job\\ibmqjob.py\u001b[0m in \u001b[0;36mresult\u001b[1;34m(self, timeout, wait, partial, refresh)\u001b[0m\n\u001b[0;32m    272\u001b[0m                 raise IBMQJobFailureError(\n\u001b[0;32m    273\u001b[0m                     \u001b[1;34m'Unable to retrieve result for job {}. Job has failed. '\u001b[0m\u001b[1;33m\u001b[0m\u001b[1;33m\u001b[0m\u001b[0m\n\u001b[1;32m--> 274\u001b[1;33m                     'Use job.error_message() to get more details.'.format(self.job_id()))\n\u001b[0m\u001b[0;32m    275\u001b[0m \u001b[1;33m\u001b[0m\u001b[0m\n\u001b[0;32m    276\u001b[0m         \u001b[1;32mreturn\u001b[0m \u001b[0mself\u001b[0m\u001b[1;33m.\u001b[0m\u001b[0m_retrieve_result\u001b[0m\u001b[1;33m(\u001b[0m\u001b[0mrefresh\u001b[0m\u001b[1;33m=\u001b[0m\u001b[0mrefresh\u001b[0m\u001b[1;33m)\u001b[0m\u001b[1;33m\u001b[0m\u001b[1;33m\u001b[0m\u001b[0m\n",
      "\u001b[1;31mIBMQJobFailureError\u001b[0m: 'Unable to retrieve result for job 5ef38512f869ef001379d8b5. Job has failed. Use job.error_message() to get more details.'"
     ]
    }
   ],
   "source": [
    "t1_results = job.result(timeout=120)\n",
    "t1_values = []\n",
    "all_T1s = []\n",
    "all_fits = []\n",
    "\n",
    "for i in range(len(pulse_info)):\n",
    "    single_amp_data = []\n",
    "    for j in range(len(delay_times_dt)):\n",
    "        data = t1_results.get_memory((i * len(times_us) + j))[qb] * scale_factor\n",
    "        single_amp_data.append(np.mean(data))\n",
    "\n",
    "        \n",
    "    single_amp_data = np.angle(single_amp_data, deg=True)\n",
    "    t1_values.append(single_amp_data)\n",
    "    \n",
    "    fun = lambda x, A, C, T1: (A * np.exp(-x / T1) + C)\n",
    "    p, y_fit = fit_function(times_us, single_amp_data, fun, \n",
    "                     [-3, -3, 100])\n",
    "    _, _, T1 = p\n",
    "    all_T1s.append(T1)\n",
    "    all_fits.append(y_fit)"
   ]
  },
  {
   "cell_type": "code",
   "execution_count": 40,
   "metadata": {},
   "outputs": [
    {
     "data": {
      "text/plain": [
       "Text(0.5, 1.0, 'Relaxation time (T1): 83.44998559575228 us for amplitude 0.05962263431168813')"
      ]
     },
     "execution_count": 40,
     "metadata": {},
     "output_type": "execute_result"
    },
    {
     "data": {
      "image/png": "[encoded data removed]",
      "text/plain": [
       "<Figure size 432x288 with 1 Axes>"
      ]
     },
     "metadata": {},
     "output_type": "display_data"
    }
   ],
   "source": [
    "a = 5\n",
    "num_scheds = len(pulse_info) * len(delay_times_dt)\n",
    "plt.plot([0,max(times_us)],2*[np.mean(np.angle(t1_results.get_memory(num_scheds)[qb] * scale_factor,deg=True))],label=\"|0> state\") # plot 0 state horizontal line\n",
    "plt.plot([0,max(times_us)],2*[np.mean(np.angle(t1_results.get_memory(num_scheds+1)[qb] * scale_factor,deg=True))],label=\"|1> state\") # plot 1 state horizontal line\n",
    "\n",
    "plt.scatter(times_us, t1_values[a], color='black') # plot real part of Rabi values\n",
    "plt.plot(times_us, all_fits[a])\n",
    "plt.xlabel('Delay before measurement, [dt]', fontsize=12)\n",
    "plt.ylabel('IQ Phase, [a.u.]', fontsize=12)\n",
    "plt.title(f'Relaxation time (T1): {all_T1s[a]} us for amplitude {pulse_info[a][2]}')"
   ]
  },
  {
   "cell_type": "code",
   "execution_count": 16,
   "metadata": {},
   "outputs": [
    {
     "data": {
      "image/png": "[encoded data removed]",
      "text/plain": [
       "<Figure size 432x288 with 1 Axes>"
      ]
     },
     "metadata": {},
     "output_type": "display_data"
    }
   ],
   "source": [
    "plt.scatter(np.array(pulse_info)[:, 2], all_T1s)\n",
    "plt.xlabel('Amplitude, [a.u.]', fontsize=12)\n",
    "plt.ylabel('Relaxation time (T1), [us]', fontsize=12)\n",
    "plt.title(\"Amplitude vs Relaxation time\")\n",
    "plt.show()"
   ]
  },
  {
   "cell_type": "code",
   "execution_count": 1,
   "metadata": {},
   "outputs": [],
   "source": [
    "from qiskit import QuantumCircuit, execute, Aer\n"
   ]
  },
  {
   "cell_type": "code",
   "execution_count": 2,
   "metadata": {},
   "outputs": [
    {
     "ename": "ModuleNotFoundError",
     "evalue": "No module named 'qiskit_textbook'",
     "output_type": "error",
     "traceback": [
      "\u001b[1;31m---------------------------------------------------------------------------\u001b[0m",
      "\u001b[1;31mModuleNotFoundError\u001b[0m                       Traceback (most recent call last)",
      "\u001b[1;32m<ipython-input-2-4656bc83d7f9>\u001b[0m in \u001b[0;36m<module>\u001b[1;34m()\u001b[0m\n\u001b[1;32m----> 1\u001b[1;33m \u001b[1;32mfrom\u001b[0m \u001b[0mqiskit_textbook\u001b[0m\u001b[1;33m.\u001b[0m\u001b[0mwidgets\u001b[0m \u001b[1;32mimport\u001b[0m \u001b[0mplot_bloch_vector_spherical\u001b[0m\u001b[1;33m\u001b[0m\u001b[1;33m\u001b[0m\u001b[0m\n\u001b[0m\u001b[0;32m      2\u001b[0m \u001b[0mcoords\u001b[0m \u001b[1;33m=\u001b[0m \u001b[1;33m[\u001b[0m\u001b[0mpi\u001b[0m\u001b[1;33m/\u001b[0m\u001b[1;36m2\u001b[0m\u001b[1;33m,\u001b[0m\u001b[1;36m0\u001b[0m\u001b[1;33m,\u001b[0m\u001b[1;36m1\u001b[0m\u001b[1;33m]\u001b[0m \u001b[1;31m# [Theta, Phi, Radius]\u001b[0m\u001b[1;33m\u001b[0m\u001b[1;33m\u001b[0m\u001b[0m\n\u001b[0;32m      3\u001b[0m \u001b[0mplot_bloch_vector_spherical\u001b[0m\u001b[1;33m(\u001b[0m\u001b[0mcoords\u001b[0m\u001b[1;33m)\u001b[0m \u001b[1;31m# Bloch Vector with spherical coordinates\u001b[0m\u001b[1;33m\u001b[0m\u001b[1;33m\u001b[0m\u001b[0m\n",
      "\u001b[1;31mModuleNotFoundError\u001b[0m: No module named 'qiskit_textbook'"
     ]
    }
   ],
   "source": [
    "from qiskit_textbook.widgets import plot_bloch_vector_spherical\n",
    "coords = [pi/2,0,1] # [Theta, Phi, Radius]\n",
    "plot_bloch_vector_spherical(coords) # Bloch Vector with spherical coordinates\n"
   ]
  },
  {
   "cell_type": "code",
   "execution_count": null,
   "metadata": {},
   "outputs": [],
   "source": []
  }
 ],
 "metadata": {
  "kernelspec": {
   "display_name": "Python 3",
   "language": "python",
   "name": "python3"
  },
  "language_info": {
   "codemirror_mode": {
    "name": "ipython",
    "version": 3
   },
   "file_extension": ".py",
   "mimetype": "text/x-python",
   "name": "python",
   "nbconvert_exporter": "python",
   "pygments_lexer": "ipython3",
   "version": "3.6.7"
  }
 },
 "nbformat": 4,
 "nbformat_minor": 2
}
