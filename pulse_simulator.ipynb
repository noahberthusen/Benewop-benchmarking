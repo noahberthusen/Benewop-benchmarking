{
 "cells": [
  {
   "cell_type": "code",
   "execution_count": null,
   "metadata": {},
   "outputs": [],
   "source": [
    "import numpy as np\n",
    "from matplotlib import pyplot as plt\n",
    "\n",
    "from qiskit import *\n",
    "from qiskit.compiler import assemble\n",
    "from qiskit.pulse.commands.sample_pulse import SamplePulse\n",
    "from scipy.optimize import curve_fit \n",
    "import random\n",
    "import math\n",
    "from qiskit import pulse\n",
    "from qiskit.pulse import Play\n",
    "from qiskit.pulse import pulse_lib\n",
    "from qiskit.providers.aer import PulseSimulator\n",
    "from qiskit.providers.aer.pulse import PulseSystemModel"
   ]
  },
  {
   "cell_type": "code",
   "execution_count": 31,
   "metadata": {},
   "outputs": [
    {
     "name": "stderr",
     "output_type": "stream",
     "text": [
      "ibmqfactory.load_account:WARNING:2020-06-30 14:23:25,018: Credentials are already in use. The existing account in the session will be replaced.\n"
     ]
    }
   ],
   "source": [
    "provider = IBMQ.load_account()\n",
    "provider = IBMQ.get_provider(hub='ibm-q-ornl', group='ornl', project='phy141')\n",
    "backend = provider.get_backend('ibmq_armonk')\n",
    "props, backend_config, defaults = (backend.properties(), backend.configuration(), backend.defaults())"
   ]
  },
  {
   "cell_type": "code",
   "execution_count": 3,
   "metadata": {},
   "outputs": [
    {
     "name": "stdout",
     "output_type": "stream",
     "text": [
      "Sampling time: 0.2222222222222222 ns\n",
      "Qubit 0 has an estimated frequency of 4.974455162624343 GHz.\n"
     ]
    }
   ],
   "source": [
    "import numpy as np\n",
    "\n",
    "backend_defaults = backend.defaults()\n",
    "dt = backend_config.dt\n",
    "print(f\"Sampling time: {dt*1e9} ns\") \n",
    "\n",
    "# unit conversion factors -> all backend properties returned in SI (Hz, sec, etc)\n",
    "GHz = 1.0e9 # Gigahertz\n",
    "MHz = 1.0e6 # Megahertz\n",
    "us = 1.0e-6 # Microseconds\n",
    "ns = 1.0e-9 # Nanoseconds\n",
    "\n",
    "# We will find the qubit frequency for the following qubit.\n",
    "qubit = 0\n",
    "\n",
    "# The sweep will be centered around the estimated qubit frequency.\n",
    "center_frequency_Hz = backend_defaults.qubit_freq_est[qubit]        # The default frequency is given in Hz\n",
    "                                                                    # warning: this will change in a future release\n",
    "print(f\"Qubit {qubit} has an estimated frequency of {center_frequency_Hz / GHz} GHz.\")\n",
    "\n",
    "# scale factor to remove factors of 10 from the data\n",
    "scale_factor = 1e-14"
   ]
  },
  {
   "cell_type": "code",
   "execution_count": 4,
   "metadata": {},
   "outputs": [],
   "source": [
    "# samples need to be multiples of 16\n",
    "def get_closest_multiple_of_16(num):\n",
    "    return int(num + 8 ) - (int(num + 8 ) % 16)\n",
    "\n",
    "from qiskit import pulse            # This is where we access all of our Pulse features!\n",
    "from qiskit.pulse import Play\n",
    "from qiskit.pulse import pulse_lib  # This Pulse module helps us build sampled pulses for common pulse shapes"
   ]
  },
  {
   "cell_type": "code",
   "execution_count": 24,
   "metadata": {},
   "outputs": [],
   "source": [
    "Xp = lambda i: pulse.commands.SamplePulse([p for p in defaults.pulse_library\n",
    "                 if p.name=='Xp_d'+str(i)][0].samples, 'Xp'+str(i))"
   ]
  },
  {
   "cell_type": "code",
   "execution_count": 5,
   "metadata": {},
   "outputs": [],
   "source": [
    "### Collect the necessary channels\n",
    "drive_chan = pulse.DriveChannel(qubit)\n",
    "meas_chan = pulse.MeasureChannel(qubit)\n",
    "acq_chan = pulse.AcquireChannel(qubit)\n",
    "\n",
    "inst_sched_map = backend_defaults.instruction_schedule_map\n",
    "measure = inst_sched_map.get('measure', qubits=qubit)"
   ]
  },
  {
   "cell_type": "code",
   "execution_count": 20,
   "metadata": {},
   "outputs": [],
   "source": [
    "from scipy.optimize import curve_fit\n",
    "\n",
    "def fit_function(x_values, y_values, function, init_params):\n",
    "    fitparams, conv = curve_fit(function, x_values, y_values, init_params)\n",
    "#     y_fit = function(x_values, *fitparams)\n",
    "    \n",
    "    return fitparams\n",
    "\n",
    "# center data around 0\n",
    "def baseline_remove(values):\n",
    "    return np.array(values) - np.mean(values)"
   ]
  },
  {
   "cell_type": "code",
   "execution_count": 7,
   "metadata": {},
   "outputs": [],
   "source": [
    "# A value to use if previous cells of notebook were not run\n",
    "pi_amp = 0.347467\n",
    "drive_duration = 2048\n",
    "drive_sigma = 256\n",
    "\n",
    "# Infer the value of the drive strength from the pi pulse amplitude:\n",
    "dt = getattr(backend.configuration(), 'dt')\n",
    "from qiskit.pulse import pulse_lib\n",
    "sample_array = pulse_lib.gaussian(duration=drive_duration, amp=1, sigma=drive_sigma).samples\n",
    "A = pi_amp*sum(sample_array*dt) # area under curve\n",
    "omegad0 = np.real(np.pi/(A * 2)) # inferred drive strength\n",
    "\n",
    "# set drive strength omegad0 in backend object\n",
    "getattr(backend.configuration(), 'hamiltonian')['vars']['omegad0'] = omegad0\n",
    "# set the qubit frequency from the estimate in the defaults\n",
    "freq_est = getattr(backend.defaults(), 'qubit_freq_est')[0]\n",
    "getattr(backend.configuration(), 'hamiltonian')['vars']['wq0'] = 2*np.pi*freq_est\n",
    "\n",
    "armonk_model = PulseSystemModel.from_backend(backend)\n",
    "backend_sim = PulseSimulator()"
   ]
  },
  {
   "cell_type": "code",
   "execution_count": 8,
   "metadata": {},
   "outputs": [],
   "source": [
    "shots = 1024 # determines clarity of results\n",
    "\n",
    "period = 1000 # Rabi oscillation period\n",
    "cycles = [5] # number of rabi cycles to perform for each oscillation\n",
    "datapoints_per_period = 50 # density of datapoints in a cycle capture\n",
    "cycles_to_plot = 3 # cycles to capture oscillation with, integer\n",
    "\n",
    "scale_factor = 1e-14\n",
    "predict_const = 396.82938853064877 #54.07447683508908\n",
    "predict_power =  -1.0324290902994375 #-0.9924372112785861\n",
    "\n",
    "sig_predict_const =  87.54344062139323 #11.48089749887833 \n",
    "sig_predict_power =  -0.986135023870862 #-0.9672752940591574"
   ]
  },
  {
   "cell_type": "code",
   "execution_count": 32,
   "metadata": {},
   "outputs": [],
   "source": [
    "# begin with no pulses in the experiment\n",
    "experiments = []\n",
    "\n",
    "data_times = []\n",
    "drive_amp = np.power(period/predict_const,1/predict_power)\n",
    "\n",
    "# make array of constant pulses that we can use to make all drive lengths\n",
    "constant_pulse_lengths = [2**i for i in range(17)] # largest i that you can fit in 250,000 pulse samples\n",
    "constant_pulses = []\n",
    "for i in constant_pulse_lengths: \n",
    "    constant_pulses.append(pulse_lib.Constant(duration=i, amp=drive_amp))\n",
    "\n",
    "s = lambda amp: sig_predict_const * np.power(amp, sig_predict_power)\n",
    "drive_sigma = int(s(drive_amp))\n",
    "\n",
    "for cycle in cycles:\n",
    "    drive_duration = period*cycle    \n",
    "    center_meas = get_closest_multiple_of_16(cycle*period)\n",
    "    datapoints_per_period = 6\n",
    "    data_separation = period // datapoints_per_period\n",
    "\n",
    "    drive_times = range(center_meas - get_closest_multiple_of_16(cycles_to_plot*data_separation*datapoints_per_period/2),\n",
    "                        center_meas + get_closest_multiple_of_16(cycles_to_plot*data_separation*datapoints_per_period/2),\n",
    "                        16)\n",
    "    for i in range(len(drive_times)):  \n",
    "        normal_gauss_square = pulse_lib.GaussianSquare(duration=drive_times[i], amp=drive_amp,\n",
    "                            sigma=drive_sigma, width=drive_times[i]-(6*drive_sigma)).get_sample_pulse()\n",
    "        front_cap = pulse.commands.SamplePulse(normal_gauss_square.samples[:3*drive_sigma],'front_cap')\n",
    "        end_cap = pulse.commands.SamplePulse(front_cap.samples[::-1],'end_cap')\n",
    "        consts = []\n",
    "        this_schedule = pulse.Schedule(name=f\"Rabi duration = {i}\")\n",
    "\n",
    "        # add front cap\n",
    "        consts.append(front_cap.samples)\n",
    "\n",
    "        if (drive_times[i] > sum(constant_pulse_lengths)):\n",
    "            extra_time = drive_times[i]\n",
    "            while (extra_time > sum(constant_pulse_lengths)):\n",
    "                consts.append(constant_pulses[-1].get_sample_pulse().samples)\n",
    "#                 this_schedule += Play(constant_pulses[-1], drive_chan)\n",
    "                extra_time -= constant_pulse_lengths[-1]\n",
    "            bin_time = '{0:b}'.format(extra_time)\n",
    "            for i in range(len(bin_time)):\n",
    "                if (bin_time[i] == '1'):\n",
    "                    consts.append(constant_pulses[i].get_sample_pulse().samples)\n",
    "#                     this_schedule += Play(constant_pulses[i], drive_chan)\n",
    "        else:\n",
    "            bin_time = '{0:b}'.format(drive_times[i])[::-1]\n",
    "            for i in range(len(bin_time)):\n",
    "                if (bin_time[i] == '1'):\n",
    "                    consts.append(constant_pulses[i].get_sample_pulse().samples)\n",
    "\n",
    "        # add end cap\n",
    "        consts.append(end_cap.samples)\n",
    "        \n",
    "        long_pulse = np.concatenate(consts, axis=0)\n",
    "        this_schedule += Play(SamplePulse(long_pulse, name=\"long pulse\"), drive_chan)\n",
    "\n",
    "        this_schedule += measure << this_schedule.duration\n",
    "        experiments.append(this_schedule)\n",
    "\n",
    "    data_times.append(drive_times)"
   ]
  },
  {
   "cell_type": "code",
   "execution_count": 35,
   "metadata": {},
   "outputs": [
    {
     "data": {
      "text/plain": [
       "188"
      ]
     },
     "execution_count": 35,
     "metadata": {},
     "output_type": "execute_result"
    }
   ],
   "source": [
    "len(experiments)"
   ]
  },
  {
   "cell_type": "code",
   "execution_count": 33,
   "metadata": {},
   "outputs": [],
   "source": [
    "benewop_jobs = []\n",
    "num_shots_per_point = 1024\n",
    "\n",
    "schedule = pulse.Schedule(name='|0> state')\n",
    "schedule += measure << schedule.duration\n",
    "experiments.append(schedule) # add zero state to experiments\n",
    "schedule = pulse.Schedule(name='|1> state')\n",
    "schedule += Play(SamplePulse(Xp(qubit).samples), drive_chan)\n",
    "schedule += measure << schedule.duration\n",
    "experiments.append(schedule) # add 1 state to experiments\n",
    "\n",
    "program = assemble(experiments,\n",
    "                   backend=backend,\n",
    "                   meas_level=1,\n",
    "                   meas_return='avg',\n",
    "                   shots=num_shots_per_point)\n",
    "job = backend_sim.run(program, armonk_model).result()\n",
    "benewop_jobs.append(job)"
   ]
  },
  {
   "cell_type": "code",
   "execution_count": 34,
   "metadata": {},
   "outputs": [
    {
     "ename": "IndexError",
     "evalue": "list index out of range",
     "output_type": "error",
     "traceback": [
      "\u001b[1;31m---------------------------------------------------------------------------\u001b[0m",
      "\u001b[1;31mIndexError\u001b[0m                                Traceback (most recent call last)",
      "\u001b[1;32m<ipython-input-34-7d490700ddde>\u001b[0m in \u001b[0;36m<module>\u001b[1;34m()\u001b[0m\n\u001b[0;32m      1\u001b[0m \u001b[0mall_results\u001b[0m \u001b[1;33m=\u001b[0m \u001b[1;33m[\u001b[0m\u001b[1;33m]\u001b[0m\u001b[1;33m\u001b[0m\u001b[1;33m\u001b[0m\u001b[0m\n\u001b[0;32m      2\u001b[0m \u001b[1;32mfor\u001b[0m \u001b[0mi\u001b[0m \u001b[1;32min\u001b[0m \u001b[0mrange\u001b[0m\u001b[1;33m(\u001b[0m\u001b[0mlen\u001b[0m\u001b[1;33m(\u001b[0m\u001b[0mexperiments\u001b[0m\u001b[1;33m)\u001b[0m\u001b[1;33m)\u001b[0m\u001b[1;33m:\u001b[0m\u001b[1;33m\u001b[0m\u001b[1;33m\u001b[0m\u001b[0m\n\u001b[1;32m----> 3\u001b[1;33m     \u001b[0mall_results\u001b[0m\u001b[1;33m.\u001b[0m\u001b[0mappend\u001b[0m\u001b[1;33m(\u001b[0m\u001b[0mnp\u001b[0m\u001b[1;33m.\u001b[0m\u001b[0mangle\u001b[0m\u001b[1;33m(\u001b[0m\u001b[0mresults\u001b[0m\u001b[1;33m.\u001b[0m\u001b[0mget_memory\u001b[0m\u001b[1;33m(\u001b[0m\u001b[0mi\u001b[0m\u001b[1;33m)\u001b[0m\u001b[1;33m[\u001b[0m\u001b[0mqubit\u001b[0m\u001b[1;33m]\u001b[0m \u001b[1;33m*\u001b[0m \u001b[0mscale_factor\u001b[0m\u001b[1;33m,\u001b[0m \u001b[0mdeg\u001b[0m\u001b[1;33m=\u001b[0m\u001b[1;32mTrue\u001b[0m\u001b[1;33m)\u001b[0m\u001b[1;33m)\u001b[0m\u001b[1;33m\u001b[0m\u001b[1;33m\u001b[0m\u001b[0m\n\u001b[0m",
      "\u001b[1;32m~\\AppData\\Roaming\\Python\\Python36\\site-packages\\qiskit\\result\\result.py\u001b[0m in \u001b[0;36mget_memory\u001b[1;34m(self, experiment)\u001b[0m\n\u001b[0;32m    135\u001b[0m         \"\"\"\n\u001b[0;32m    136\u001b[0m         \u001b[1;32mtry\u001b[0m\u001b[1;33m:\u001b[0m\u001b[1;33m\u001b[0m\u001b[1;33m\u001b[0m\u001b[0m\n\u001b[1;32m--> 137\u001b[1;33m             \u001b[0mexp_result\u001b[0m \u001b[1;33m=\u001b[0m \u001b[0mself\u001b[0m\u001b[1;33m.\u001b[0m\u001b[0m_get_experiment\u001b[0m\u001b[1;33m(\u001b[0m\u001b[0mexperiment\u001b[0m\u001b[1;33m)\u001b[0m\u001b[1;33m\u001b[0m\u001b[1;33m\u001b[0m\u001b[0m\n\u001b[0m\u001b[0;32m    138\u001b[0m \u001b[1;33m\u001b[0m\u001b[0m\n\u001b[0;32m    139\u001b[0m             \u001b[1;32mtry\u001b[0m\u001b[1;33m:\u001b[0m  \u001b[1;31m# header is not available\u001b[0m\u001b[1;33m\u001b[0m\u001b[1;33m\u001b[0m\u001b[0m\n",
      "\u001b[1;32m~\\AppData\\Roaming\\Python\\Python36\\site-packages\\qiskit\\result\\result.py\u001b[0m in \u001b[0;36m_get_experiment\u001b[1;34m(self, key)\u001b[0m\n\u001b[0;32m    272\u001b[0m         \u001b[1;31m# Key is an integer: return result by index.\u001b[0m\u001b[1;33m\u001b[0m\u001b[1;33m\u001b[0m\u001b[1;33m\u001b[0m\u001b[0m\n\u001b[0;32m    273\u001b[0m         \u001b[1;32mif\u001b[0m \u001b[0misinstance\u001b[0m\u001b[1;33m(\u001b[0m\u001b[0mkey\u001b[0m\u001b[1;33m,\u001b[0m \u001b[0mint\u001b[0m\u001b[1;33m)\u001b[0m\u001b[1;33m:\u001b[0m\u001b[1;33m\u001b[0m\u001b[1;33m\u001b[0m\u001b[0m\n\u001b[1;32m--> 274\u001b[1;33m             \u001b[0mexp\u001b[0m \u001b[1;33m=\u001b[0m \u001b[0mself\u001b[0m\u001b[1;33m.\u001b[0m\u001b[0mresults\u001b[0m\u001b[1;33m[\u001b[0m\u001b[0mkey\u001b[0m\u001b[1;33m]\u001b[0m\u001b[1;33m\u001b[0m\u001b[1;33m\u001b[0m\u001b[0m\n\u001b[0m\u001b[0;32m    275\u001b[0m         \u001b[1;32melse\u001b[0m\u001b[1;33m:\u001b[0m\u001b[1;33m\u001b[0m\u001b[1;33m\u001b[0m\u001b[0m\n\u001b[0;32m    276\u001b[0m             \u001b[1;32mtry\u001b[0m\u001b[1;33m:\u001b[0m\u001b[1;33m\u001b[0m\u001b[1;33m\u001b[0m\u001b[0m\n",
      "\u001b[1;31mIndexError\u001b[0m: list index out of range"
     ]
    }
   ],
   "source": [
    "all_results = []\n",
    "for i in range(len(experiments)):\n",
    "    all_results.append(np.angle(results.get_memory(i)[qubit] * scale_factor, deg=True))"
   ]
  },
  {
   "cell_type": "code",
   "execution_count": 21,
   "metadata": {},
   "outputs": [
    {
     "name": "stderr",
     "output_type": "stream",
     "text": [
      "C:\\Users\\nfberthusen\\AppData\\Roaming\\Python\\Python36\\site-packages\\scipy\\optimize\\minpack.py:808: OptimizeWarning: Covariance of the parameters could not be estimated\n",
      "  category=OptimizeWarning)\n"
     ]
    }
   ],
   "source": [
    "qb_rabi_data = []\n",
    "all_params = []\n",
    "all_fits = []\n",
    "num_experiments = sum([len(x) for x in data_times])\n",
    "\n",
    "state0 = all_results[len(all_results)-2]\n",
    "state1 = all_results[len(all_results)-1]\n",
    "\n",
    "past_exp = 0\n",
    "for i in range(len(cycles)):\n",
    "    single_period_data = []\n",
    "    for j in range(len(data_times[i])):\n",
    "        # Get the results for `qubit` from the ith experiment\n",
    "        single_period_data.append(all_results[past_exp+j])\n",
    "\n",
    "    qb_rabi_data.append(single_period_data)\n",
    "    past_exp += len(data_times[i])\n",
    "    \n",
    "    fun = lambda x, A, B, drive_period, phi: (A*np.cos(2*np.pi*x/drive_period - phi) + B)\n",
    "    p = fit_function(list(data_times[i]), qb_rabi_data[i], fun, \n",
    "                     [np.max(qb_rabi_data[i]) - np.min(qb_rabi_data[i]), 0, period, 0])\n",
    "    all_params.append(p)\n",
    "    \n",
    "    y_fit = [fun(x, p[0], p[1], p[2], p[3]) for x in list(data_times[i])]\n",
    "    all_fits.append(y_fit)"
   ]
  },
  {
   "cell_type": "code",
   "execution_count": 23,
   "metadata": {},
   "outputs": [
    {
     "name": "stdout",
     "output_type": "stream",
     "text": [
      "Period: 1000.0 dt\n"
     ]
    },
    {
     "data": {
      "image/png": "[encoded data removed]",
      "text/plain": [
       "<Figure size 1200x800 with 1 Axes>"
      ]
     },
     "metadata": {},
     "output_type": "display_data"
    }
   ],
   "source": [
    "from matplotlib.pyplot import figure\n",
    "figure(num=None, figsize=(15, 10), dpi=80, facecolor='w', edgecolor='k')\n",
    "\n",
    "# end_plot_time = (period*cycles[-1])+(len(data_times[-1])*16)\n",
    "# plt.plot([0, end_plot_time],2*[state0],label=\"|0> state\")\n",
    "# plt.plot([0, end_plot_time],2*[state1],label=\"|1> state\")\n",
    "\n",
    "for i in range(len(cycles)):\n",
    "    plt.scatter(data_times[i], qb_rabi_data[i], color='black') # plot real part of Rabi values\n",
    "    plt.plot(data_times[i], all_fits[i],\n",
    "    label=\"cycles = \" + str(cycles[i]) + \", Designed Period = \" + str(period) + \", Fit Period(dt) = \" + str(np.around(all_params[i][2],decimals=4)))\n",
    "print(f'Period: {p[2]} dt')\n",
    "plt.legend(loc='upper right', fontsize=12)\n",
    "plt.xlabel('Drive time, [dt]', fontsize=16)\n",
    "plt.ylabel('IQ Phase, [degrees]', fontsize=16)\n",
    "plt.title(\"Rabi Oscillations Varying Pulse Duration vs IQ phase, Period =\" + str(period) + \", qb = \" + str(qubit), fontsize=16)\n",
    "plt.show()"
   ]
  },
  {
   "cell_type": "code",
   "execution_count": null,
   "metadata": {},
   "outputs": [],
   "source": []
  }
 ],
 "metadata": {
  "kernelspec": {
   "display_name": "Python 3",
   "language": "python",
   "name": "python3"
  },
  "language_info": {
   "codemirror_mode": {
    "name": "ipython",
    "version": 3
   },
   "file_extension": ".py",
   "mimetype": "text/x-python",
   "name": "python",
   "nbconvert_exporter": "python",
   "pygments_lexer": "ipython3",
   "version": "3.6.7"
  }
 },
 "nbformat": 4,
 "nbformat_minor": 2
}
