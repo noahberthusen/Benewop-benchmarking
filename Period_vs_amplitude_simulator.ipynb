{
 "cells": [
  {
   "cell_type": "code",
   "execution_count": 1,
   "metadata": {},
   "outputs": [],
   "source": [
    "import numpy as np\n",
    "from qiskit import *\n",
    "import matplotlib.pyplot as plt\n",
    "from scipy.optimize import curve_fit \n",
    "import random\n",
    "import math\n",
    "from qiskit.tools.monitor import job_monitor\n",
    "from qiskit.providers.aer import PulseSimulator\n",
    "from qiskit.providers.aer.pulse import PulseSystemModel\n",
    "%matplotlib inline"
   ]
  },
  {
   "cell_type": "code",
   "execution_count": 2,
   "metadata": {},
   "outputs": [],
   "source": [
    "# Choose a real device to simulate\n",
    "provider = IBMQ.load_account()\n",
    "provider = IBMQ.get_provider(hub='ibm-q-ornl', group='ornl', project='phy141')\n",
    "backend = provider.get_backend('ibmq_armonk')\n",
    "backend_config = backend.configuration()"
   ]
  },
  {
   "cell_type": "code",
   "execution_count": 3,
   "metadata": {},
   "outputs": [
    {
     "name": "stdout",
     "output_type": "stream",
     "text": [
      "Sampling time: 0.2222222222222222 ns\n",
      "Qubit 0 has an estimated frequency of 4.974450057406281 GHz.\n"
     ]
    }
   ],
   "source": [
    "import numpy as np\n",
    "\n",
    "backend_defaults = backend.defaults()\n",
    "dt = backend_config.dt\n",
    "print(f\"Sampling time: {dt*1e9} ns\") \n",
    "\n",
    "# unit conversion factors -> all backend properties returned in SI (Hz, sec, etc)\n",
    "GHz = 1.0e9 # Gigahertz\n",
    "MHz = 1.0e6 # Megahertz\n",
    "us = 1.0e-6 # Microseconds\n",
    "ns = 1.0e-9 # Nanoseconds\n",
    "\n",
    "# We will find the qubit frequency for the following qubit.\n",
    "qubit = 0\n",
    "\n",
    "# The sweep will be centered around the estimated qubit frequency.\n",
    "center_frequency_Hz = backend_defaults.qubit_freq_est[qubit]        # The default frequency is given in Hz\n",
    "                                                                    # warning: this will change in a future release\n",
    "print(f\"Qubit {qubit} has an estimated frequency of {center_frequency_Hz / GHz} GHz.\")\n",
    "\n",
    "# scale factor to remove factors of 10 from the data\n",
    "scale_factor = 1e-14"
   ]
  },
  {
   "cell_type": "code",
   "execution_count": 4,
   "metadata": {},
   "outputs": [],
   "source": [
    "# samples need to be multiples of 16\n",
    "def get_closest_multiple_of_16(num):\n",
    "    return int(num + 8 ) - (int(num + 8 ) % 16)\n",
    "\n",
    "from qiskit import pulse            # This is where we access all of our Pulse features!\n",
    "from qiskit.pulse import Play\n",
    "from qiskit.pulse import pulse_lib  # This Pulse module helps us build sampled pulses for common pulse shapes"
   ]
  },
  {
   "cell_type": "code",
   "execution_count": 5,
   "metadata": {},
   "outputs": [],
   "source": [
    "### Collect the necessary channels\n",
    "drive_chan = pulse.DriveChannel(qubit)\n",
    "meas_chan = pulse.MeasureChannel(qubit)\n",
    "acq_chan = pulse.AcquireChannel(qubit)\n",
    "\n",
    "inst_sched_map = backend_defaults.instruction_schedule_map\n",
    "measure = inst_sched_map.get('measure', qubits=qubit)"
   ]
  },
  {
   "cell_type": "code",
   "execution_count": 6,
   "metadata": {},
   "outputs": [],
   "source": [
    "from scipy.optimize import curve_fit\n",
    "\n",
    "def fit_function(x_values, y_values, function, init_params):\n",
    "    fitparams, conv = curve_fit(function, x_values, y_values, init_params)\n",
    "    y_fit = function(x_values, *fitparams)\n",
    "    \n",
    "    return fitparams, y_fit\n",
    "\n",
    "# center data around 0\n",
    "def baseline_remove(values):\n",
    "    return np.array(values) - np.mean(values)"
   ]
  },
  {
   "cell_type": "code",
   "execution_count": 7,
   "metadata": {},
   "outputs": [],
   "source": [
    "# A value to use if previous cells of notebook were not run\n",
    "pi_amp = 0.347467\n",
    "drive_duration = 2048\n",
    "drive_sigma = 256\n",
    "\n",
    "# Infer the value of the drive strength from the pi pulse amplitude:\n",
    "dt = getattr(backend.configuration(), 'dt')\n",
    "from qiskit.pulse import pulse_lib\n",
    "sample_array = pulse_lib.gaussian(duration=drive_duration, amp=1, sigma=drive_sigma).samples\n",
    "A = pi_amp*sum(sample_array*dt) # area under curve\n",
    "omegad0 = np.real(np.pi/(A * 2)) # inferred drive strength\n",
    "\n",
    "# set drive strength omegad0 in backend object\n",
    "getattr(backend.configuration(), 'hamiltonian')['vars']['omegad0'] = omegad0\n",
    "# set the qubit frequency from the estimate in the defaults\n",
    "freq_est = getattr(backend.defaults(), 'qubit_freq_est')[0]\n",
    "getattr(backend.configuration(), 'hamiltonian')['vars']['wq0'] = 2*np.pi*freq_est\n",
    "\n",
    "armonk_model = PulseSystemModel.from_backend(backend)\n",
    "backend_sim = PulseSimulator()"
   ]
  },
  {
   "cell_type": "code",
   "execution_count": 19,
   "metadata": {},
   "outputs": [],
   "source": [
    "# Rabi experiment parameters\n",
    "num_amplitudes = 15\n",
    "num_rabi_points = 50\n",
    "\n",
    "# Drive amplitude values to iterate over: amplitudes evenly spaced from 0 to 0.75\n",
    "drive_amp_min = 0\n",
    "drive_amp_max = 0.75\n",
    "drive_amps = np.linspace(drive_amp_min, drive_amp_max, num_rabi_points)\n",
    "\n",
    "# Build the Rabi experiments:\n",
    "#    A drive pulse at the qubit frequency, followed by a measurement,\n",
    "#    where we vary the drive amplitude each time.\n",
    "\n",
    "pulse_info = []\n",
    "rabi_jobs = []\n",
    "\n",
    "# Repeat the Rabi experiment for {num_amplitude} amplitudes. Each experiment is its own job\n",
    "for i in range(num_amplitudes):\n",
    "    # Drive pulse parameters (us = microseconds)\n",
    "    drive_sigma_us = 0.02 + (i * 0.01)        # This determines the actual width of the gaussian\n",
    "    drive_samples_us = drive_sigma_us*8        # This is a truncating parameter, because gaussians don't have \n",
    "                                               # a natural finite length\n",
    "\n",
    "    drive_sigma = get_closest_multiple_of_16(drive_sigma_us * us /dt)       # The width of the gaussian in units of dt\n",
    "    drive_samples = get_closest_multiple_of_16(drive_samples_us * us /dt)   # The truncating parameter in units of dt\n",
    "\n",
    "    pulse_info.append([drive_sigma, drive_samples])\n",
    "    \n",
    "    rabi_schedules = []\n",
    "    \n",
    "    # Build the Rabi experiments:\n",
    "        #    A drive pulse at the qubit frequency, followed by a measurement,\n",
    "        #    where we vary the drive amplitude each time.\n",
    "    for drive_amp in drive_amps:\n",
    "        rabi_pulse = pulse_lib.gaussian(duration=drive_samples, amp=drive_amp, \n",
    "                                        sigma=drive_sigma, name=f\"Rabi drive amplitude = {drive_amp}\")\n",
    "        this_schedule = pulse.Schedule(name=f\"Rabi drive amplitude = {drive_amp}\")\n",
    "        this_schedule += Play(rabi_pulse, drive_chan)\n",
    "\n",
    "        this_schedule += measure << this_schedule.duration\n",
    "        rabi_schedules.append(this_schedule)\n",
    "        \n",
    "        \n",
    "    # Assemble the schedules into a Qobj\n",
    "    num_shots_per_point = 1024\n",
    "        \n",
    "    rabi_experiment_program = assemble(rabi_schedules,\n",
    "                                   backend=backend_sim,\n",
    "                                   meas_level=1,\n",
    "                                   meas_return='avg',\n",
    "                                   shots=num_shots_per_point,\n",
    "                                   schedule_los=[{drive_chan: backend_defaults.qubit_freq_est[qubit]}]\n",
    "                                                * num_rabi_points)\n",
    "\n",
    "    job = backend_sim.run(rabi_experiment_program, armonk_model).result()\n",
    "    rabi_jobs.append(job)"
   ]
  },
  {
   "cell_type": "code",
   "execution_count": 20,
   "metadata": {},
   "outputs": [],
   "source": [
    "rabi_values = []\n",
    "\n",
    "for i in range(len(rabi_jobs)):  \n",
    "    amp_values = []\n",
    "    for j in range(num_rabi_points):\n",
    "        amp_values.append(rabi_jobs[i].get_memory(j)[qubit] * scale_factor)\n",
    "    rabi_values.append(amp_values)\n",
    "        \n",
    "rabi_values = [np.real(baseline_remove(x)) for x in rabi_values]"
   ]
  },
  {
   "cell_type": "code",
   "execution_count": 21,
   "metadata": {},
   "outputs": [
    {
     "name": "stderr",
     "output_type": "stream",
     "text": [
      "C:\\Users\\nfberthusen\\AppData\\Roaming\\Python\\Python36\\site-packages\\scipy\\optimize\\minpack.py:808: OptimizeWarning: Covariance of the parameters could not be estimated\n",
      "  category=OptimizeWarning)\n"
     ]
    }
   ],
   "source": [
    "rabi_fit_params = []\n",
    "y_fits = []\n",
    "\n",
    "# approximate amplitude given a sigma\n",
    "amp = lambda sigma: 62.92686 * np.power(sigma, -0.94693)\n",
    "\n",
    "for i in range(len(rabi_values)):\n",
    "    fit_params, y_fit = fit_function(drive_amps,\n",
    "                                     rabi_values[i], \n",
    "                                     lambda x, A, B, drive_period, phi: (A*np.cos(2*np.pi*x/drive_period - phi) + B),\n",
    "                                     [2, 0, 2*amp(pulse_info[i][0]), 0])\n",
    "    rabi_fit_params.append(fit_params)\n",
    "    y_fits.append(y_fit)\n",
    "\n",
    "#     drive_period = fit_params[2] \n",
    "#     pi_amp = abs(drive_period / 2)"
   ]
  },
  {
   "cell_type": "code",
   "execution_count": 25,
   "metadata": {},
   "outputs": [
    {
     "data": {
      "text/plain": [
       "[<matplotlib.lines.Line2D at 0x2ad1bfa4c18>]"
      ]
     },
     "execution_count": 25,
     "metadata": {},
     "output_type": "execute_result"
    },
    {
     "data": {
      "image/png": "[encoded data removed]",
      "text/plain": [
       "<Figure size 432x288 with 1 Axes>"
      ]
     },
     "metadata": {},
     "output_type": "display_data"
    }
   ],
   "source": [
    "a = 14\n",
    "plt.scatter(drive_amps, rabi_values[a], color='black')\n",
    "plt.plot(drive_amps, y_fits[a], color='red')"
   ]
  },
  {
   "cell_type": "code",
   "execution_count": 24,
   "metadata": {},
   "outputs": [
    {
     "name": "stdout",
     "output_type": "stream",
     "text": [
      "Pi Amplitude = 0.8352483821036211\n",
      "Duration = 720\n",
      "Sigma = 96\n",
      "\n",
      "Pi Amplitude = 0.6973744589094455\n",
      "Duration = 1088\n",
      "Sigma = 128\n",
      "\n",
      "Pi Amplitude = 0.5067366028175301\n",
      "Duration = 1440\n",
      "Sigma = 176\n",
      "\n",
      "Pi Amplitude = 0.39707834252081275\n",
      "Duration = 1808\n",
      "Sigma = 224\n",
      "\n",
      "Pi Amplitude = 0.32703799346766493\n",
      "Duration = 2160\n",
      "Sigma = 272\n",
      "\n",
      "Pi Amplitude = 0.2785133432637251\n",
      "Duration = 2528\n",
      "Sigma = 320\n",
      "\n",
      "Pi Amplitude = 0.2414784399307209\n",
      "Duration = 2880\n",
      "Sigma = 368\n",
      "\n",
      "Pi Amplitude = 0.2217290741064688\n",
      "Duration = 3248\n",
      "Sigma = 400\n",
      "\n",
      "Pi Amplitude = 0.19896975028160763\n",
      "Duration = 3600\n",
      "Sigma = 448\n",
      "\n",
      "Pi Amplitude = 0.1792726666328803\n",
      "Duration = 3968\n",
      "Sigma = 496\n",
      "\n",
      "Pi Amplitude = 0.1635055103407504\n",
      "Duration = 4320\n",
      "Sigma = 544\n",
      "\n",
      "Pi Amplitude = 0.15038990176252465\n",
      "Duration = 4688\n",
      "Sigma = 592\n",
      "\n",
      "Pi Amplitude = 0.14254390288599206\n",
      "Duration = 5040\n",
      "Sigma = 624\n",
      "\n",
      "Pi Amplitude = 0.13228642445258953\n",
      "Duration = 5408\n",
      "Sigma = 672\n",
      "\n",
      "Pi Amplitude = 0.12361930939538149\n",
      "Duration = 5760\n",
      "Sigma = 720\n",
      "\n"
     ]
    }
   ],
   "source": [
    "for i in range(num_amplitudes):\n",
    "    pi_amp = abs(rabi_fit_params[i][2] / 2)\n",
    "    pulse_info[i].append(pi_amp)\n",
    "    print(f\"Pi Amplitude = {abs(rabi_fit_params[i][2] / 2)}\")\n",
    "    print(f\"Duration = {pulse_info[i][1]}\")\n",
    "    print(f\"Sigma = {pulse_info[i][0]}\")\n",
    "#     print(f\"Period = {pulse_info[i][3]}\")\n",
    "    print()"
   ]
  },
  {
   "cell_type": "code",
   "execution_count": 26,
   "metadata": {},
   "outputs": [
    {
     "data": {
      "text/plain": [
       "[[96, 720, 0.8352483821036211],\n",
       " [128, 1088, 0.6973744589094455],\n",
       " [176, 1440, 0.5067366028175301],\n",
       " [224, 1808, 0.39707834252081275],\n",
       " [272, 2160, 0.32703799346766493],\n",
       " [320, 2528, 0.2785133432637251],\n",
       " [368, 2880, 0.2414784399307209],\n",
       " [400, 3248, 0.2217290741064688],\n",
       " [448, 3600, 0.19896975028160763],\n",
       " [496, 3968, 0.1792726666328803],\n",
       " [544, 4320, 0.1635055103407504],\n",
       " [592, 4688, 0.15038990176252465],\n",
       " [624, 5040, 0.14254390288599206],\n",
       " [672, 5408, 0.13228642445258953],\n",
       " [720, 5760, 0.12361930939538149]]"
      ]
     },
     "execution_count": 26,
     "metadata": {},
     "output_type": "execute_result"
    }
   ],
   "source": [
    "pulse_info"
   ]
  },
  {
   "cell_type": "code",
   "execution_count": 27,
   "metadata": {},
   "outputs": [],
   "source": [
    "num_rabi_stretches = 50\n",
    "\n",
    "all_durations = []\n",
    "rabi_stretch_jobs = []\n",
    "\n",
    "for i in range(len(pulse_info)):\n",
    "    rabi_stretch_schedules = []\n",
    "    durations = []\n",
    "\n",
    "    drive_samples = pulse_info[i][1] // 50\n",
    "    \n",
    "    for j in range(num_rabi_stretches):\n",
    "        duration = get_closest_multiple_of_16(drive_samples+(j*64))\n",
    "        rabi_pulse = pulse_lib.GaussianSquare(duration=duration, \n",
    "                                        amp=pulse_info[i][2], \n",
    "                                        sigma=pulse_info[i][0],\n",
    "                                        width=j*64,\n",
    "                                        name=f\"Rabi duration = {duration}\")\n",
    "\n",
    "        this_schedule = pulse.Schedule(name=f\"Rabi duration = {duration}\")\n",
    "        this_schedule += Play(rabi_pulse, drive_chan)\n",
    "\n",
    "        this_schedule += measure << this_schedule.duration\n",
    "        rabi_stretch_schedules.append(this_schedule)\n",
    "        durations.append(duration)\n",
    "    \n",
    "    all_durations.append(durations)\n",
    "    \n",
    "    # Assemble the schedules into a Qobj\n",
    "    num_shots_per_point = 1024\n",
    "\n",
    "    rabi_stretch_program = assemble(rabi_stretch_schedules,\n",
    "                                       backend=backend_sim,\n",
    "                                       meas_level=1,\n",
    "                                       meas_return='avg',\n",
    "                                       shots=num_shots_per_point,\n",
    "                                       schedule_los=[{drive_chan: backend_defaults.qubit_freq_est[qubit]}]\n",
    "                                                    * num_rabi_stretches)\n",
    "    stretch_job = backend_sim.run(rabi_stretch_program, armonk_model).result()\n",
    "    rabi_stretch_jobs.append(stretch_job)"
   ]
  },
  {
   "cell_type": "code",
   "execution_count": 28,
   "metadata": {},
   "outputs": [],
   "source": [
    "rabi_stretch_values = []\n",
    "\n",
    "for i in range(len(rabi_stretch_jobs)):\n",
    "    period_values = []\n",
    "    for j in range(num_rabi_stretches):\n",
    "        period_values.append(rabi_stretch_jobs[i].get_memory(j)[qubit] * scale_factor)\n",
    "    rabi_stretch_values.append(period_values)\n",
    "        \n",
    "rabi_stretch_values = [np.real(baseline_remove(x)) for x in rabi_stretch_values]"
   ]
  },
  {
   "cell_type": "code",
   "execution_count": 38,
   "metadata": {},
   "outputs": [
    {
     "name": "stderr",
     "output_type": "stream",
     "text": [
      "C:\\Users\\nfberthusen\\AppData\\Roaming\\Python\\Python36\\site-packages\\scipy\\optimize\\minpack.py:808: OptimizeWarning: Covariance of the parameters could not be estimated\n",
      "  category=OptimizeWarning)\n"
     ]
    }
   ],
   "source": [
    "rabi_stretch_params = []\n",
    "y_stretch_fits = []\n",
    "\n",
    "fun = lambda x,A,B,T,phi: (A*np.cos(2*np.pi*x/T+phi)+B)\n",
    "\n",
    "for i in range(len(rabi_stretch_values)):\n",
    "    fit_params, cov = curve_fit(fun,\n",
    "                           all_durations[i],\n",
    "                           rabi_stretch_values[i],\n",
    "                           [4, 0, 500+(200*i), 0],\n",
    "                           maxfev=4000)\n",
    "\n",
    "    rabi_stretch_params.append(fit_params)\n",
    "    y_fit = [fun(x, fit_params[0], fit_params[1], fit_params[2], fit_params[3]) for x in all_durations[i]]\n",
    "    y_stretch_fits.append(y_fit)"
   ]
  },
  {
   "cell_type": "code",
   "execution_count": 42,
   "metadata": {},
   "outputs": [
    {
     "name": "stdout",
     "output_type": "stream",
     "text": [
      "Period for amp: 0.12361930939538149, 3562.738407963433 dt\n"
     ]
    },
    {
     "data": {
      "image/png": "[encoded data removed]",
      "text/plain": [
       "<Figure size 432x288 with 1 Axes>"
      ]
     },
     "metadata": {},
     "output_type": "display_data"
    }
   ],
   "source": [
    "p = 14\n",
    "plt.scatter(all_durations[p], rabi_stretch_values[p], color='black')\n",
    "plt.plot(all_durations[p], y_stretch_fits[p], color='red')\n",
    "print(f'Period for amp: {pulse_info[p][2]}, {rabi_stretch_params[p][2]} dt')"
   ]
  },
  {
   "cell_type": "code",
   "execution_count": 44,
   "metadata": {},
   "outputs": [
    {
     "name": "stdout",
     "output_type": "stream",
     "text": [
      "Pi Amplitude = 0.8352483821036211\n",
      "Period = 533.4476587608619\n",
      "\n",
      "Pi Amplitude = 0.6973744589094455\n",
      "Period = 638.921667056189\n",
      "\n",
      "Pi Amplitude = 0.5067366028175301\n",
      "Period = 878.9290083039842\n",
      "\n",
      "Pi Amplitude = 0.39707834252081275\n",
      "Period = 1121.4553517408015\n",
      "\n",
      "Pi Amplitude = 0.32703799346766493\n",
      "Period = 1365.4902754564682\n",
      "\n",
      "Pi Amplitude = 0.2785133432637251\n",
      "Period = 1600.4689360282064\n",
      "\n",
      "Pi Amplitude = 0.2414784399307209\n",
      "Period = 1847.547460093526\n",
      "\n",
      "Pi Amplitude = 0.2217290741064688\n",
      "Period = 2007.9391803099388\n",
      "\n",
      "Pi Amplitude = 0.19896975028160763\n",
      "Period = 2241.183667971119\n",
      "\n",
      "Pi Amplitude = 0.1792726666328803\n",
      "Period = 2485.9154076267955\n",
      "\n",
      "Pi Amplitude = 0.1635055103407504\n",
      "Period = 2718.572675681948\n",
      "\n",
      "Pi Amplitude = 0.15038990176252465\n",
      "Period = 2957.7264675778556\n",
      "\n",
      "Pi Amplitude = 0.14254390288599206\n",
      "Period = 3125.2620508040445\n",
      "\n",
      "Pi Amplitude = 0.13228642445258953\n",
      "Period = 3374.4783368386456\n",
      "\n",
      "Pi Amplitude = 0.12361930939538149\n",
      "Period = 3562.738407963433\n",
      "\n"
     ]
    }
   ],
   "source": [
    "for i in range(num_amplitudes):\n",
    "    period = rabi_stretch_params[i][2]\n",
    "    pulse_info[i].append(period)\n",
    "    print(f\"Pi Amplitude = {pulse_info[i][2]}\")\n",
    "    print(f\"Period = {period}\")\n",
    "    print()"
   ]
  },
  {
   "cell_type": "code",
   "execution_count": 45,
   "metadata": {},
   "outputs": [],
   "source": [
    "edited_pulse_info = np.array(pulse_info)\n",
    "# edited_pulse_info = np.delete(edited_pulse_info, (8), axis=0)\n",
    "# edited_pulse_info = np.delete(edited_pulse_info, (6), axis=0)"
   ]
  },
  {
   "cell_type": "code",
   "execution_count": 46,
   "metadata": {},
   "outputs": [
    {
     "name": "stdout",
     "output_type": "stream",
     "text": [
      "Conversion constant: 449.2541813973289. Exponent: -0.9942697633930531\n"
     ]
    },
    {
     "data": {
      "image/png": "[encoded data removed]",
      "text/plain": [
       "<Figure size 432x288 with 1 Axes>"
      ]
     },
     "metadata": {},
     "output_type": "display_data"
    }
   ],
   "source": [
    "per_amp_power_fit = lambda x,A,n: A*(x**n)\n",
    "per_params, _ = curve_fit(per_amp_power_fit, edited_pulse_info[:, 2] , edited_pulse_info[:, 3], p0=[20, -3])\n",
    "amp_fit = per_amp_power_fit(edited_pulse_info[:, 2], *per_params)\n",
    "\n",
    "plt.plot(edited_pulse_info[:, 2], amp_fit, label='Amplitude decay fit')\n",
    "plt.scatter(edited_pulse_info[:, 2], edited_pulse_info[:, 3], color='black')\n",
    "plt.xlabel(\"Drive amplitude [a.u.]\")\n",
    "plt.ylabel(\"Rabi Period [dt]\")\n",
    "plt.title(\"Rabi Period vs. Amplitude Relationship, qb = \" + str(qubit), fontsize=16)\n",
    "print(f'Conversion constant: {per_params[0]}. Exponent: {per_params[1]}')"
   ]
  },
  {
   "cell_type": "code",
   "execution_count": 47,
   "metadata": {},
   "outputs": [],
   "source": [
    "predict_const = per_params[0]\n",
    "predict_power = per_params[1]\n",
    "drive_amp = lambda period: np.power(period/predict_const,1/predict_power)"
   ]
  },
  {
   "cell_type": "code",
   "execution_count": 48,
   "metadata": {},
   "outputs": [
    {
     "data": {
      "text/plain": [
       "0.22270216497404047"
      ]
     },
     "execution_count": 48,
     "metadata": {},
     "output_type": "execute_result"
    }
   ],
   "source": [
    "drive_amp(2000)"
   ]
  },
  {
   "cell_type": "code",
   "execution_count": 49,
   "metadata": {},
   "outputs": [
    {
     "name": "stdout",
     "output_type": "stream",
     "text": [
      "Conversion constant: 88.09605140099661. Exponent: -1.0052657279403663\n"
     ]
    },
    {
     "data": {
      "image/png": "[encoded data removed]",
      "text/plain": [
       "<Figure size 432x288 with 1 Axes>"
      ]
     },
     "metadata": {},
     "output_type": "display_data"
    }
   ],
   "source": [
    "sig_amp_power_fit = lambda x,A,n: A*(x**n)\n",
    "sig_params, _ = curve_fit(sig_amp_power_fit, edited_pulse_info[:, 2] , edited_pulse_info[:, 0], p0=[3, -1])\n",
    "sig_fit = sig_amp_power_fit(edited_pulse_info[:, 2], *sig_params)\n",
    "\n",
    "plt.plot(edited_pulse_info[:, 2], sig_fit, label='Amplitude decay fit')\n",
    "plt.scatter(edited_pulse_info[:, 2], edited_pulse_info[:, 0], color='black')\n",
    "plt.xlabel(\"Drive amplitude [a.u.]\")\n",
    "plt.ylabel(\"Gaussian width [dt]\")\n",
    "plt.title(\"Gaussian width vs. Amplitude Relationship, qb = \" + str(qubit), fontsize=16)\n",
    "print(f'Conversion constant: {sig_params[0]}. Exponent: {sig_params[1]}')"
   ]
  },
  {
   "cell_type": "code",
   "execution_count": 124,
   "metadata": {},
   "outputs": [
    {
     "data": {
      "text/plain": [
       "387.0351289967017"
      ]
     },
     "execution_count": 124,
     "metadata": {},
     "output_type": "execute_result"
    }
   ],
   "source": [
    "s = lambda amp: 87.29796992127307 * np.power(amp, -0.9884183046618715)\n",
    "s(0.221654)"
   ]
  },
  {
   "cell_type": "code",
   "execution_count": null,
   "metadata": {},
   "outputs": [],
   "source": []
  }
 ],
 "metadata": {
  "kernelspec": {
   "display_name": "Python 3",
   "language": "python",
   "name": "python3"
  },
  "language_info": {
   "codemirror_mode": {
    "name": "ipython",
    "version": 3
   },
   "file_extension": ".py",
   "mimetype": "text/x-python",
   "name": "python",
   "nbconvert_exporter": "python",
   "pygments_lexer": "ipython3",
   "version": "3.6.7"
  }
 },
 "nbformat": 4,
 "nbformat_minor": 2
}
