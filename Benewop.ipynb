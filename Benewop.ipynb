{
 "cells": [
  {
   "cell_type": "code",
   "execution_count": 1,
   "metadata": {},
   "outputs": [],
   "source": [
    "import numpy as np\n",
    "from matplotlib import pyplot as plt\n",
    "\n",
    "from qiskit import *\n",
    "from qiskit.compiler import assemble\n",
    "from qiskit.pulse.commands.sample_pulse import SamplePulse\n",
    "from scipy.optimize import curve_fit \n",
    "import random\n",
    "import math\n",
    "from qiskit import pulse\n",
    "from qiskit.pulse import Play\n",
    "from qiskit.pulse import pulse_lib\n",
    "from qiskit.providers.aer import PulseSimulator\n",
    "from qiskit.providers.aer.pulse import PulseSystemModel"
   ]
  },
  {
   "cell_type": "code",
   "execution_count": 2,
   "metadata": {},
   "outputs": [],
   "source": [
    "provider = IBMQ.load_account()\n",
    "provider = IBMQ.get_provider(hub='ibm-q-ornl', group='ornl', project='phy141')\n",
    "backend = provider.get_backend('ibmq_johannesburg')\n",
    "props, config, defaults = (backend.properties(), backend.configuration(), backend.defaults())"
   ]
  },
  {
   "cell_type": "code",
   "execution_count": 3,
   "metadata": {},
   "outputs": [],
   "source": [
    "def describe_qubit(qubit, properties):\n",
    "    \"\"\"Print a string describing some of reported properties of the given qubit.\"\"\"\n",
    "\n",
    "    # Conversion factors from standard SI units\n",
    "    us = 1e6\n",
    "    ns = 1e9\n",
    "    GHz = 1e-9\n",
    "\n",
    "    print(\"Qubit {0} has a \\n\"\n",
    "          \"  - T1 time of {1} microseconds\\n\"\n",
    "          \"  - T2 time of {2} microseconds\\n\"\n",
    "          \"  - U2 gate error of {3}\\n\"\n",
    "          \"  - U2 gate duration of {4} nanoseconds\\n\"\n",
    "          \"  - resonant frequency of {5} GHz\".format(\n",
    "              qubit,\n",
    "              properties.t1(qubit) * us,\n",
    "              properties.t2(qubit) * us,\n",
    "              properties.gate_error('u2', qubit),\n",
    "              properties.gate_length('u2', qubit) * ns,\n",
    "              properties.frequency(qubit) * GHz))"
   ]
  },
  {
   "cell_type": "code",
   "execution_count": 4,
   "metadata": {},
   "outputs": [],
   "source": [
    "Xp = lambda i: pulse.commands.SamplePulse([p for p in defaults.pulse_library\n",
    "                 if p.name=='Xp_d'+str(i)][0].samples, 'Xp'+str(i))"
   ]
  },
  {
   "cell_type": "code",
   "execution_count": 5,
   "metadata": {},
   "outputs": [],
   "source": [
    "from scipy.optimize import curve_fit\n",
    "\n",
    "def fit_function(x_values, y_values, function, init_params):\n",
    "    fitparams, conv = curve_fit(function, x_values, y_values, init_params)\n",
    "#     y_fit = function(x_values, *fitparams)\n",
    "    \n",
    "    return fitparams #, y_fit\n",
    "\n",
    "# center data around 0\n",
    "def baseline_remove(values):\n",
    "    return np.array(values) - np.mean(values)\n",
    "\n",
    "# samples need to be multiples of 16\n",
    "def get_closest_multiple_of_16(num):\n",
    "    return int(num + 8 ) - (int(num + 8 ) % 16)"
   ]
  },
  {
   "cell_type": "code",
   "execution_count": 6,
   "metadata": {},
   "outputs": [
    {
     "name": "stdout",
     "output_type": "stream",
     "text": [
      "Qubit 0 has a \n",
      "  - T1 time of 61.40931280600872 microseconds\n",
      "  - T2 time of 84.00901875550208 microseconds\n",
      "  - U2 gate error of 0.0005413173807719701\n",
      "  - U2 gate duration of 35.555555555555564 nanoseconds\n",
      "  - resonant frequency of 4.664858082685952 GHz\n"
     ]
    }
   ],
   "source": [
    "qb = 0 # qubit to operate on\n",
    "\n",
    "### Collect the necessary channels\n",
    "drive_chan = pulse.DriveChannel(qb)\n",
    "meas_chan = pulse.MeasureChannel(qb)\n",
    "acq_chan = pulse.AcquireChannel(qb)\n",
    "\n",
    "circ_inst_map = defaults.instruction_schedule_map\n",
    "measure = circ_inst_map.get('measure', qubits=qb)\n",
    "\n",
    "describe_qubit(qb, props)"
   ]
  },
  {
   "cell_type": "code",
   "execution_count": 43,
   "metadata": {},
   "outputs": [],
   "source": [
    "shots = 1024 # determines clarity of results\n",
    "\n",
    "period = 100 # Rabi oscillation period\n",
    "cycles = [5] # number of rabi cycles to perform for each oscillation\n",
    "datapoints_per_period = 50 # density of datapoints in a cycle capture\n",
    "cycles_to_plot = 3 # cycles to capture oscillation with, integer\n",
    "\n",
    "scale_factor = 1e-14\n",
    "predict_const = 54.07447683508908\n",
    "predict_power =  -0.9924372112785861\n",
    "\n",
    "sig_predict_const = 11.48089749887833 \n",
    "sig_predict_power = -0.9672752940591574"
   ]
  },
  {
   "cell_type": "code",
   "execution_count": 45,
   "metadata": {},
   "outputs": [
    {
     "name": "stdout",
     "output_type": "stream",
     "text": [
      "16\n",
      "256 000000001 0\n",
      "272 000010001 16\n",
      "288 000001001 32\n",
      "304 000011001 48\n",
      "320 000000101 64\n",
      "336 000010101 80\n",
      "352 000001101 96\n",
      "368 000011101 112\n",
      "384 000000011 0\n",
      "400 000010011 16\n",
      "416 000001011 32\n",
      "432 000011011 48\n",
      "448 000000111 64\n",
      "464 000010111 80\n",
      "480 000001111 96\n",
      "496 000011111 112\n",
      "512 0000000001 0\n",
      "528 0000100001 16\n"
     ]
    }
   ],
   "source": [
    "# begin with no pulses in the experiment\n",
    "experiments = []\n",
    "\n",
    "data_times = []\n",
    "drive_amp = np.power(period/predict_const,1/predict_power)\n",
    "\n",
    "# make array of constant pulses that we can use to make all drive lengths\n",
    "constant_pulse_lengths = [2**i for i in range(17)] # largest i that you can fit in 250,000 pulse samples\n",
    "constant_pulses = []\n",
    "for i in constant_pulse_lengths: \n",
    "    constant_pulses.append(pulse_lib.Constant(duration=i, amp=drive_amp))\n",
    "leftover_constant_pulses = []\n",
    "leftover_constant_pulses_lengths = [i for i in range(65, 128)]\n",
    "for i in range(65, 128): # hacky way of getting the leftover pulses. Can't make a pulse smaller than 64\n",
    "    leftover_constant_pulses.append(pulse_lib.Constant(duration=i, amp=drive_amp))\n",
    "\n",
    "s = lambda amp: sig_predict_const * np.power(amp, sig_predict_power)\n",
    "drive_sigma = get_closest_multiple_of_16(int(s(drive_amp)))\n",
    "\n",
    "for cycle in cycles:\n",
    "    drive_duration = period*cycle    \n",
    "    center_meas = get_closest_multiple_of_16(cycle*period)\n",
    "    datapoints_per_period = 6\n",
    "    data_separation = period // datapoints_per_period\n",
    "    print(data_separation)\n",
    "\n",
    "    drive_times = range(center_meas - get_closest_multiple_of_16(cycles_to_plot*data_separation*datapoints_per_period/2),\n",
    "                        center_meas + get_closest_multiple_of_16(cycles_to_plot*data_separation*datapoints_per_period/2),\n",
    "                        16)\n",
    "    for i in range(len(drive_times)):  \n",
    "        normal_gauss_square = pulse_lib.GaussianSquare(duration=drive_times[i], amp=drive_amp,\n",
    "                            sigma=drive_sigma, width=drive_times[i]-(6*drive_sigma)).get_sample_pulse()\n",
    "        front_cap = pulse.commands.SamplePulse(normal_gauss_square.samples[:3*drive_sigma], 'front_cap')\n",
    "        end_cap = pulse.commands.SamplePulse(normal_gauss_square.samples[-3*drive_sigma:], 'end_cap')\n",
    "\n",
    "        this_schedule = pulse.Schedule(name=f\"Rabi duration = {i}\")\n",
    "        adjusted_time = drive_times[i] - (6 * drive_sigma)\n",
    "\n",
    "        # add front cap\n",
    "        this_schedule += Play(front_cap, drive_chan)\n",
    "        \n",
    "        extra_time = adjusted_time\n",
    "        if (adjusted_time > sum(constant_pulse_lengths)):\n",
    "            while (extra_time > sum(constant_pulse_lengths)):\n",
    "                this_schedule += Play(constant_pulses[-1], drive_chan)\n",
    "                extra_time -= constant_pulse_lengths[-1]\n",
    "            bin_time = '{0:b}'.format(extra_time)\n",
    "            for i in range(len(bin_time)):\n",
    "                if (bin_time[i] == '1' and (i > 6)):\n",
    "                    this_schedule += Play(constant_pulses[i], drive_chan)\n",
    "                    extra_time -= constant_pulse_lengths[i]\n",
    "        else:\n",
    "            bin_time = '{0:b}'.format(adjusted_time)[::-1]\n",
    "            for i in range(len(bin_time)):\n",
    "                if (bin_time[i] == '1' and (i > 6)):\n",
    "                    this_schedule += Play(constant_pulses[i], drive_chan)\n",
    "                    extra_time -= constant_pulse_lengths[i]\n",
    "        print(adjusted_time, bin_time, extra_time)\n",
    "\n",
    "        # add end cap\n",
    "        this_schedule += Play(end_cap, drive_chan)\n",
    "#         long_pulse = np.concatenate(consts, axis=0)\n",
    "#         this_schedule += Play(SamplePulse(long_pulse, name=\"long pulse\"), drive_chan)\n",
    "\n",
    "        this_schedule += measure << this_schedule.duration\n",
    "        experiments.append(this_schedule)\n",
    "\n",
    "    data_times.append(drive_times)\n",
    "\n",
    "schedule = pulse.Schedule(name='|0> state')\n",
    "schedule += measure << schedule.duration\n",
    "experiments.append(schedule) # add zero state to experiments\n",
    "schedule = pulse.Schedule(name='|1> state')\n",
    "schedule += Play(SamplePulse(Xp(qb).samples), drive_chan)\n",
    "schedule += measure << schedule.duration\n",
    "experiments.append(schedule) # add 1 state to experiments"
   ]
  },
  {
   "cell_type": "code",
   "execution_count": 46,
   "metadata": {},
   "outputs": [
    {
     "data": {
      "text/plain": [
       "6048"
      ]
     },
     "execution_count": 46,
     "metadata": {},
     "output_type": "execute_result"
    }
   ],
   "source": [
    "sum(leftover_constant_pulses_lengths)"
   ]
  },
  {
   "cell_type": "code",
   "execution_count": null,
   "metadata": {},
   "outputs": [],
   "source": [
    "leftover_constant_pulses[]"
   ]
  },
  {
   "cell_type": "code",
   "execution_count": 29,
   "metadata": {},
   "outputs": [],
   "source": [
    "num_shots_per_point = 1024\n",
    "program = assemble(experiments,\n",
    "                   backend=backend,\n",
    "                   meas_level=1,\n",
    "                   meas_return='avg',\n",
    "                   shots=num_shots_per_point)\n",
    "job = backend.run(program)"
   ]
  },
  {
   "cell_type": "code",
   "execution_count": 38,
   "metadata": {},
   "outputs": [],
   "source": [
    "results = job.result(timeout=120)\n",
    "all_results = []\n",
    "for i in range(len(experiments)):\n",
    "    all_results.append(np.angle(results.get_memory(i)[qb] * scale_factor, deg=True))"
   ]
  },
  {
   "cell_type": "code",
   "execution_count": 39,
   "metadata": {},
   "outputs": [],
   "source": [
    "qb_rabi_data = []\n",
    "all_params = []\n",
    "all_fits = []\n",
    "num_experiments = sum([len(x) for x in data_times])\n",
    "\n",
    "state0 = all_results[len(all_results)-2]\n",
    "state1 = all_results[len(all_results)-1]\n",
    "\n",
    "past_exp = 0\n",
    "for i in range(len(cycles)):\n",
    "    single_period_data = []\n",
    "    for j in range(len(data_times[i])):\n",
    "        # Get the results for `qubit` from the ith experiment\n",
    "        single_period_data.append(all_results[past_exp+j])\n",
    "\n",
    "    qb_rabi_data.append(single_period_data)\n",
    "    past_exp += len(data_times[i])\n",
    "    \n",
    "    fun = lambda x, A, B, drive_period, phi: (A*np.cos(2*np.pi*x/drive_period - phi) + B)\n",
    "    p = fit_function(list(data_times[i]), qb_rabi_data[i], fun, \n",
    "                     [np.max(qb_rabi_data[i]) - np.min(qb_rabi_data[i]), 0, period, 0])\n",
    "    all_params.append(p)\n",
    "    \n",
    "    y_fit = [fun(x, p[0], p[1], p[2], p[3]) for x in list(data_times[i])]\n",
    "    all_fits.append(y_fit)"
   ]
  },
  {
   "cell_type": "code",
   "execution_count": 40,
   "metadata": {},
   "outputs": [
    {
     "name": "stdout",
     "output_type": "stream",
     "text": [
      "Period: 142.20790824788563 dt\n"
     ]
    },
    {
     "data": {
      "image/png": "[encoded data removed]",
      "text/plain": [
       "<Figure size 1200x800 with 1 Axes>"
      ]
     },
     "metadata": {},
     "output_type": "display_data"
    }
   ],
   "source": [
    "from matplotlib.pyplot import figure\n",
    "figure(num=None, figsize=(15, 10), dpi=80, facecolor='w', edgecolor='k')\n",
    "\n",
    "end_plot_time = (period*cycles[-1])+(len(data_times[-1])*16)\n",
    "plt.plot([0, end_plot_time],2*[state0],label=\"|0> state\")\n",
    "plt.plot([0, end_plot_time],2*[state1],label=\"|1> state\")\n",
    "\n",
    "for i in range(len(cycles)):\n",
    "    plt.scatter(data_times[i], qb_rabi_data[i], color='black') # plot real part of Rabi values\n",
    "    plt.plot(data_times[i], all_fits[i],\n",
    "    label=\"cycles = \" + str(cycles[i]) + \", Designed Period = \" + str(period) + \", Fit Period(dt) = \" + str(np.around(all_params[i][2],decimals=4)))\n",
    "print(f'Period: {p[2]} dt')\n",
    "plt.legend(loc='upper right', fontsize=12)\n",
    "plt.xlabel('Drive time, [dt]', fontsize=16)\n",
    "plt.ylabel('IQ Phase, [degrees]', fontsize=16)\n",
    "plt.title(\"Rabi Oscillations Varying Pulse Duration vs IQ phase, Period =\" + str(period) + \", qb = \" + str(qb), fontsize=16)\n",
    "plt.show()"
   ]
  },
  {
   "cell_type": "code",
   "execution_count": null,
   "metadata": {},
   "outputs": [],
   "source": [
    "for i in range(len(cycles)):\n",
    "    print(f'{np.max(qb_rabi_data[i])-np.min(qb_rabi_data[i])}')"
   ]
  },
  {
   "cell_type": "code",
   "execution_count": null,
   "metadata": {},
   "outputs": [],
   "source": [
    "amps = abs(np.array(all_params)[:,0])\n",
    "\n",
    "xval = [1,2,3,4,5]\n",
    "fit = lambda t,A,T,C: A * np.exp(-t/T) + C\n",
    "p = fit_function(xval, amps, fit, [3, -1, -1])\n",
    "y_fit = [fit(x, p[0], p[1], p[2]) for x in [1,2,3,4,5]]\n",
    "\n",
    "plt.scatter(amps, xval)\n",
    "# plt.plot(xval, y_fit)\n",
    "print(p)"
   ]
  },
  {
   "cell_type": "code",
   "execution_count": null,
   "metadata": {},
   "outputs": [],
   "source": [
    "i = 3\n",
    "plt.scatter(data_times[i], qb_rabi_data[i], color='black') # plot real part of Rabi values\n",
    "plt.plot(data_times[i], all_fits[i])"
   ]
  },
  {
   "cell_type": "code",
   "execution_count": null,
   "metadata": {},
   "outputs": [],
   "source": [
    "print(amps)"
   ]
  },
  {
   "cell_type": "code",
   "execution_count": null,
   "metadata": {},
   "outputs": [],
   "source": [
    "print(abs(np.array(all_params)[:,0]))"
   ]
  },
  {
   "cell_type": "code",
   "execution_count": null,
   "metadata": {},
   "outputs": [],
   "source": [
    "plt.scatter(np.multiply(cycles,period),abs(np.array(all_params)[:,0]),label=\"Amplitudes\")"
   ]
  },
  {
   "cell_type": "code",
   "execution_count": null,
   "metadata": {},
   "outputs": [],
   "source": []
  }
 ],
 "metadata": {
  "kernelspec": {
   "display_name": "Python 3",
   "language": "python",
   "name": "python3"
  },
  "language_info": {
   "codemirror_mode": {
    "name": "ipython",
    "version": 3
   },
   "file_extension": ".py",
   "mimetype": "text/x-python",
   "name": "python",
   "nbconvert_exporter": "python",
   "pygments_lexer": "ipython3",
   "version": "3.6.7"
  }
 },
 "nbformat": 4,
 "nbformat_minor": 2
}
